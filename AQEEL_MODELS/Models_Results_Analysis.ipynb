{
 "cells": [
  {
   "cell_type": "code",
   "execution_count": 1,
   "metadata": {
    "collapsed": false
   },
   "outputs": [
    {
     "name": "stderr",
     "output_type": "stream",
     "text": [
      "Using TensorFlow backend.\n"
     ]
    }
   ],
   "source": [
    "__author__ = 'aqeel'\n",
    "import numpy as np\n",
    "import os\n",
    "from keras.models import load_model\n",
    "from ALutils import RANK, Calculate_Score\n",
    "from sklearn.preprocessing import MinMaxScaler\n",
    "import pandas as pd\n",
    "import math\n",
    "np.random.seed(1377)"
   ]
  },
  {
   "cell_type": "markdown",
   "metadata": {},
   "source": [
    "# Area To Check All Models Results on All data"
   ]
  },
  {
   "cell_type": "code",
   "execution_count": 2,
   "metadata": {
    "collapsed": false,
    "scrolled": true
   },
   "outputs": [],
   "source": [
    "FUll_Results = pd.read_csv('Results.csv')"
   ]
  },
  {
   "cell_type": "code",
   "execution_count": 3,
   "metadata": {
    "collapsed": false
   },
   "outputs": [
    {
     "data": {
      "text/html": [
       "<div>\n",
       "<table border=\"1\" class=\"dataframe\">\n",
       "  <thead>\n",
       "    <tr style=\"text-align: right;\">\n",
       "      <th></th>\n",
       "      <th>Model</th>\n",
       "      <th>Perfect Score</th>\n",
       "      <th>Predicted Score</th>\n",
       "      <th>Data Type</th>\n",
       "    </tr>\n",
       "  </thead>\n",
       "  <tbody>\n",
       "    <tr>\n",
       "      <th>2351</th>\n",
       "      <td>Model_LSTM_07-0.06.h5</td>\n",
       "      <td>18.96678</td>\n",
       "      <td>33.16822</td>\n",
       "      <td>TEST</td>\n",
       "    </tr>\n",
       "  </tbody>\n",
       "</table>\n",
       "</div>"
      ],
      "text/plain": [
       "                      Model  Perfect Score  Predicted Score Data Type\n",
       "2351  Model_LSTM_07-0.06.h5       18.96678         33.16822      TEST"
      ]
     },
     "execution_count": 3,
     "metadata": {},
     "output_type": "execute_result"
    }
   ],
   "source": [
    "FUll_Results[FUll_Results['Perfect Score']==FUll_Results[FUll_Results['Data Type']=='TEST']['Perfect Score'].max()]"
   ]
  },
  {
   "cell_type": "code",
   "execution_count": 4,
   "metadata": {
    "collapsed": false,
    "scrolled": true
   },
   "outputs": [
    {
     "data": {
      "text/html": [
       "<div>\n",
       "<table border=\"1\" class=\"dataframe\">\n",
       "  <thead>\n",
       "    <tr style=\"text-align: right;\">\n",
       "      <th></th>\n",
       "      <th>Model</th>\n",
       "      <th>Perfect Score</th>\n",
       "      <th>Predicted Score</th>\n",
       "      <th>Data Type</th>\n",
       "    </tr>\n",
       "  </thead>\n",
       "  <tbody>\n",
       "    <tr>\n",
       "      <th>2351</th>\n",
       "      <td>Model_LSTM_07-0.06.h5</td>\n",
       "      <td>18.966780</td>\n",
       "      <td>33.16822</td>\n",
       "      <td>TEST</td>\n",
       "    </tr>\n",
       "    <tr>\n",
       "      <th>7405</th>\n",
       "      <td>Model_LSTM3_12-0.06.h5</td>\n",
       "      <td>18.880700</td>\n",
       "      <td>33.16822</td>\n",
       "      <td>TEST</td>\n",
       "    </tr>\n",
       "    <tr>\n",
       "      <th>6266</th>\n",
       "      <td>Model_LSTM8_24-0.06.h5</td>\n",
       "      <td>18.827540</td>\n",
       "      <td>33.16822</td>\n",
       "      <td>TEST</td>\n",
       "    </tr>\n",
       "    <tr>\n",
       "      <th>556</th>\n",
       "      <td>Model_LSTM_10-0.06.h5</td>\n",
       "      <td>18.809580</td>\n",
       "      <td>33.16822</td>\n",
       "      <td>TEST</td>\n",
       "    </tr>\n",
       "    <tr>\n",
       "      <th>3447</th>\n",
       "      <td>Model_LSTM6_82-0.05.h5</td>\n",
       "      <td>18.804720</td>\n",
       "      <td>33.16822</td>\n",
       "      <td>TEST</td>\n",
       "    </tr>\n",
       "    <tr>\n",
       "      <th>4003</th>\n",
       "      <td>Model_LSTM6_32-0.06.h5</td>\n",
       "      <td>18.764820</td>\n",
       "      <td>33.16822</td>\n",
       "      <td>TEST</td>\n",
       "    </tr>\n",
       "    <tr>\n",
       "      <th>12600</th>\n",
       "      <td>Model_LSTM6_57-0.06.h5</td>\n",
       "      <td>18.747460</td>\n",
       "      <td>33.16822</td>\n",
       "      <td>TEST</td>\n",
       "    </tr>\n",
       "    <tr>\n",
       "      <th>5532</th>\n",
       "      <td>Model_LSTM6_28-0.06.h5</td>\n",
       "      <td>18.708000</td>\n",
       "      <td>33.16822</td>\n",
       "      <td>TEST</td>\n",
       "    </tr>\n",
       "    <tr>\n",
       "      <th>2201</th>\n",
       "      <td>Model_LSTM_04-0.06.h5</td>\n",
       "      <td>18.674880</td>\n",
       "      <td>33.16822</td>\n",
       "      <td>TEST</td>\n",
       "    </tr>\n",
       "    <tr>\n",
       "      <th>8903</th>\n",
       "      <td>Model_LSTM6_52-0.06.h5</td>\n",
       "      <td>18.650770</td>\n",
       "      <td>33.16822</td>\n",
       "      <td>TEST</td>\n",
       "    </tr>\n",
       "    <tr>\n",
       "      <th>11070</th>\n",
       "      <td>Model_LSTM8_17-0.06.h5</td>\n",
       "      <td>18.566590</td>\n",
       "      <td>33.16822</td>\n",
       "      <td>TEST</td>\n",
       "    </tr>\n",
       "    <tr>\n",
       "      <th>3038</th>\n",
       "      <td>Model_LSTM8_16-0.06.h5</td>\n",
       "      <td>18.524140</td>\n",
       "      <td>33.16822</td>\n",
       "      <td>TEST</td>\n",
       "    </tr>\n",
       "    <tr>\n",
       "      <th>8446</th>\n",
       "      <td>Model_LSTM5_11-0.06.h5</td>\n",
       "      <td>18.439760</td>\n",
       "      <td>33.16822</td>\n",
       "      <td>TEST</td>\n",
       "    </tr>\n",
       "    <tr>\n",
       "      <th>1903</th>\n",
       "      <td>Model_LSTM_05-0.06.h5</td>\n",
       "      <td>18.425990</td>\n",
       "      <td>33.16822</td>\n",
       "      <td>TEST</td>\n",
       "    </tr>\n",
       "    <tr>\n",
       "      <th>9167</th>\n",
       "      <td>Model_LSTM4_07-0.06.h5</td>\n",
       "      <td>17.850820</td>\n",
       "      <td>33.16822</td>\n",
       "      <td>TEST</td>\n",
       "    </tr>\n",
       "    <tr>\n",
       "      <th>5815</th>\n",
       "      <td>Model_LSTM4_12-0.06.h5</td>\n",
       "      <td>17.836430</td>\n",
       "      <td>33.16822</td>\n",
       "      <td>TEST</td>\n",
       "    </tr>\n",
       "    <tr>\n",
       "      <th>3591</th>\n",
       "      <td>Model_LSTM6_27-0.06.h5</td>\n",
       "      <td>17.640820</td>\n",
       "      <td>33.16822</td>\n",
       "      <td>TEST</td>\n",
       "    </tr>\n",
       "    <tr>\n",
       "      <th>1120</th>\n",
       "      <td>Model_LSTM2_08-0.07.h5</td>\n",
       "      <td>17.636290</td>\n",
       "      <td>33.16822</td>\n",
       "      <td>TEST</td>\n",
       "    </tr>\n",
       "    <tr>\n",
       "      <th>5678</th>\n",
       "      <td>Model_LSTM3_02-0.06.h5</td>\n",
       "      <td>17.627390</td>\n",
       "      <td>33.16822</td>\n",
       "      <td>TEST</td>\n",
       "    </tr>\n",
       "    <tr>\n",
       "      <th>419</th>\n",
       "      <td>Model_LSTM2_20-0.06.h5</td>\n",
       "      <td>17.625230</td>\n",
       "      <td>33.16822</td>\n",
       "      <td>TEST</td>\n",
       "    </tr>\n",
       "    <tr>\n",
       "      <th>4685</th>\n",
       "      <td>Model_LSTM8_29-0.06.h5</td>\n",
       "      <td>17.612430</td>\n",
       "      <td>33.16822</td>\n",
       "      <td>TEST</td>\n",
       "    </tr>\n",
       "    <tr>\n",
       "      <th>5961</th>\n",
       "      <td>Model_LSTM8_43-0.06.h5</td>\n",
       "      <td>17.607880</td>\n",
       "      <td>33.16822</td>\n",
       "      <td>TEST</td>\n",
       "    </tr>\n",
       "    <tr>\n",
       "      <th>7860</th>\n",
       "      <td>Model_LSTM8_11-0.07.h5</td>\n",
       "      <td>17.591480</td>\n",
       "      <td>33.16822</td>\n",
       "      <td>TEST</td>\n",
       "    </tr>\n",
       "    <tr>\n",
       "      <th>6553</th>\n",
       "      <td>Model_LSTM3_06-0.06.h5</td>\n",
       "      <td>17.583170</td>\n",
       "      <td>33.16822</td>\n",
       "      <td>TEST</td>\n",
       "    </tr>\n",
       "    <tr>\n",
       "      <th>11217</th>\n",
       "      <td>Model_LSTM3_07-0.06.h5</td>\n",
       "      <td>17.581910</td>\n",
       "      <td>33.16822</td>\n",
       "      <td>TEST</td>\n",
       "    </tr>\n",
       "    <tr>\n",
       "      <th>4535</th>\n",
       "      <td>Model_LSTM5_08-0.06.h5</td>\n",
       "      <td>17.551930</td>\n",
       "      <td>33.16822</td>\n",
       "      <td>TEST</td>\n",
       "    </tr>\n",
       "    <tr>\n",
       "      <th>4387</th>\n",
       "      <td>Model_LSTM3_05-0.06.h5</td>\n",
       "      <td>17.541830</td>\n",
       "      <td>33.16822</td>\n",
       "      <td>TEST</td>\n",
       "    </tr>\n",
       "    <tr>\n",
       "      <th>9999</th>\n",
       "      <td>Model_LSTM5_35-0.06.h5</td>\n",
       "      <td>17.540150</td>\n",
       "      <td>33.16822</td>\n",
       "      <td>TEST</td>\n",
       "    </tr>\n",
       "    <tr>\n",
       "      <th>1261</th>\n",
       "      <td>Model_LSTM2_11-0.06.h5</td>\n",
       "      <td>17.531420</td>\n",
       "      <td>33.16822</td>\n",
       "      <td>TEST</td>\n",
       "    </tr>\n",
       "    <tr>\n",
       "      <th>8004</th>\n",
       "      <td>Model_LSTM4_03-0.06.h5</td>\n",
       "      <td>17.531370</td>\n",
       "      <td>33.16822</td>\n",
       "      <td>TEST</td>\n",
       "    </tr>\n",
       "    <tr>\n",
       "      <th>...</th>\n",
       "      <td>...</td>\n",
       "      <td>...</td>\n",
       "      <td>...</td>\n",
       "      <td>...</td>\n",
       "    </tr>\n",
       "    <tr>\n",
       "      <th>13180</th>\n",
       "      <td>Model_LSTM9_05-0.07.h5</td>\n",
       "      <td>16.787120</td>\n",
       "      <td>33.16822</td>\n",
       "      <td>TEST</td>\n",
       "    </tr>\n",
       "    <tr>\n",
       "      <th>3728</th>\n",
       "      <td>Model_LSTM6_01-0.07.h5</td>\n",
       "      <td>16.650480</td>\n",
       "      <td>33.16822</td>\n",
       "      <td>TEST</td>\n",
       "    </tr>\n",
       "    <tr>\n",
       "      <th>12746</th>\n",
       "      <td>Model_LSTM8_03-0.08.h5</td>\n",
       "      <td>16.631730</td>\n",
       "      <td>33.16822</td>\n",
       "      <td>TEST</td>\n",
       "    </tr>\n",
       "    <tr>\n",
       "      <th>2654</th>\n",
       "      <td>Model_LSTM_09-0.06.h5</td>\n",
       "      <td>16.496560</td>\n",
       "      <td>33.16822</td>\n",
       "      <td>TEST</td>\n",
       "    </tr>\n",
       "    <tr>\n",
       "      <th>8313</th>\n",
       "      <td>Model_LSTM8_01-0.09.h5</td>\n",
       "      <td>16.436360</td>\n",
       "      <td>33.16822</td>\n",
       "      <td>TEST</td>\n",
       "    </tr>\n",
       "    <tr>\n",
       "      <th>7704</th>\n",
       "      <td>Model_LSTM8_20-0.06.h5</td>\n",
       "      <td>16.054500</td>\n",
       "      <td>33.16822</td>\n",
       "      <td>TEST</td>\n",
       "    </tr>\n",
       "    <tr>\n",
       "      <th>13463</th>\n",
       "      <td>Model_LSTM9_24-0.06.h5</td>\n",
       "      <td>15.974450</td>\n",
       "      <td>33.16822</td>\n",
       "      <td>TEST</td>\n",
       "    </tr>\n",
       "    <tr>\n",
       "      <th>2893</th>\n",
       "      <td>Model_LSTM2_02-0.07.h5</td>\n",
       "      <td>15.841470</td>\n",
       "      <td>33.16822</td>\n",
       "      <td>TEST</td>\n",
       "    </tr>\n",
       "    <tr>\n",
       "      <th>9564</th>\n",
       "      <td>Model_LSTM4_14-0.06.h5</td>\n",
       "      <td>15.717120</td>\n",
       "      <td>33.16822</td>\n",
       "      <td>TEST</td>\n",
       "    </tr>\n",
       "    <tr>\n",
       "      <th>711</th>\n",
       "      <td>Model_LSTM_01-0.07.h5</td>\n",
       "      <td>15.656360</td>\n",
       "      <td>33.16822</td>\n",
       "      <td>TEST</td>\n",
       "    </tr>\n",
       "    <tr>\n",
       "      <th>266</th>\n",
       "      <td>Model_LSTM_00-0.08.h5</td>\n",
       "      <td>15.616570</td>\n",
       "      <td>33.16822</td>\n",
       "      <td>TEST</td>\n",
       "    </tr>\n",
       "    <tr>\n",
       "      <th>3864</th>\n",
       "      <td>Model_LSTM6_07-0.07.h5</td>\n",
       "      <td>15.583120</td>\n",
       "      <td>33.16822</td>\n",
       "      <td>TEST</td>\n",
       "    </tr>\n",
       "    <tr>\n",
       "      <th>4244</th>\n",
       "      <td>Model_LSTM6_00-0.08.h5</td>\n",
       "      <td>15.559220</td>\n",
       "      <td>33.16822</td>\n",
       "      <td>TEST</td>\n",
       "    </tr>\n",
       "    <tr>\n",
       "      <th>2808</th>\n",
       "      <td>Model_LSTM2_01-0.07.h5</td>\n",
       "      <td>15.474770</td>\n",
       "      <td>33.16822</td>\n",
       "      <td>TEST</td>\n",
       "    </tr>\n",
       "    <tr>\n",
       "      <th>6113</th>\n",
       "      <td>Model_LSTM4_00-0.07.h5</td>\n",
       "      <td>15.254990</td>\n",
       "      <td>33.16822</td>\n",
       "      <td>TEST</td>\n",
       "    </tr>\n",
       "    <tr>\n",
       "      <th>14145</th>\n",
       "      <td>Model_LSTM9_03-0.07.h5</td>\n",
       "      <td>14.644550</td>\n",
       "      <td>33.16822</td>\n",
       "      <td>TEST</td>\n",
       "    </tr>\n",
       "    <tr>\n",
       "      <th>13311</th>\n",
       "      <td>Model_LSTM9_02-0.07.h5</td>\n",
       "      <td>14.315080</td>\n",
       "      <td>33.16822</td>\n",
       "      <td>TEST</td>\n",
       "    </tr>\n",
       "    <tr>\n",
       "      <th>13033</th>\n",
       "      <td>Model_LSTM9_00-0.09.h5</td>\n",
       "      <td>13.954480</td>\n",
       "      <td>33.16822</td>\n",
       "      <td>TEST</td>\n",
       "    </tr>\n",
       "    <tr>\n",
       "      <th>9317</th>\n",
       "      <td>Model_LSTM6_04-0.07.h5</td>\n",
       "      <td>13.039900</td>\n",
       "      <td>33.16822</td>\n",
       "      <td>TEST</td>\n",
       "    </tr>\n",
       "    <tr>\n",
       "      <th>4846</th>\n",
       "      <td>Model_LSTM7_09-0.11.h5</td>\n",
       "      <td>4.691160</td>\n",
       "      <td>33.16822</td>\n",
       "      <td>TEST</td>\n",
       "    </tr>\n",
       "    <tr>\n",
       "      <th>10150</th>\n",
       "      <td>Model_LSTM7_03-0.11.h5</td>\n",
       "      <td>4.670579</td>\n",
       "      <td>33.16822</td>\n",
       "      <td>TEST</td>\n",
       "    </tr>\n",
       "    <tr>\n",
       "      <th>9050</th>\n",
       "      <td>Model_LSTM7_01-0.11.h5</td>\n",
       "      <td>4.414812</td>\n",
       "      <td>33.16822</td>\n",
       "      <td>TEST</td>\n",
       "    </tr>\n",
       "    <tr>\n",
       "      <th>10837</th>\n",
       "      <td>Model_LSTM7_08-0.11.h5</td>\n",
       "      <td>4.164865</td>\n",
       "      <td>33.16822</td>\n",
       "      <td>TEST</td>\n",
       "    </tr>\n",
       "    <tr>\n",
       "      <th>10411</th>\n",
       "      <td>Model_LSTM7_00-0.11.h5</td>\n",
       "      <td>4.018207</td>\n",
       "      <td>33.16822</td>\n",
       "      <td>TEST</td>\n",
       "    </tr>\n",
       "    <tr>\n",
       "      <th>4968</th>\n",
       "      <td>Model_LSTM7_24-0.10.h5</td>\n",
       "      <td>3.786303</td>\n",
       "      <td>33.16822</td>\n",
       "      <td>TEST</td>\n",
       "    </tr>\n",
       "    <tr>\n",
       "      <th>12077</th>\n",
       "      <td>Model_LSTM7_07-0.11.h5</td>\n",
       "      <td>3.769506</td>\n",
       "      <td>33.16822</td>\n",
       "      <td>TEST</td>\n",
       "    </tr>\n",
       "    <tr>\n",
       "      <th>4143</th>\n",
       "      <td>Model_LSTM7_02-0.11.h5</td>\n",
       "      <td>3.646754</td>\n",
       "      <td>33.16822</td>\n",
       "      <td>TEST</td>\n",
       "    </tr>\n",
       "    <tr>\n",
       "      <th>3331</th>\n",
       "      <td>Model_LSTM7_21-0.10.h5</td>\n",
       "      <td>3.535589</td>\n",
       "      <td>33.16822</td>\n",
       "      <td>TEST</td>\n",
       "    </tr>\n",
       "    <tr>\n",
       "      <th>7144</th>\n",
       "      <td>Model_LSTM7_05-0.11.h5</td>\n",
       "      <td>3.512474</td>\n",
       "      <td>33.16822</td>\n",
       "      <td>TEST</td>\n",
       "    </tr>\n",
       "    <tr>\n",
       "      <th>11817</th>\n",
       "      <td>Model_LSTM7_17-0.10.h5</td>\n",
       "      <td>3.290472</td>\n",
       "      <td>33.16822</td>\n",
       "      <td>TEST</td>\n",
       "    </tr>\n",
       "  </tbody>\n",
       "</table>\n",
       "<p>95 rows × 4 columns</p>\n",
       "</div>"
      ],
      "text/plain": [
       "                        Model  Perfect Score  Predicted Score Data Type\n",
       "2351    Model_LSTM_07-0.06.h5      18.966780         33.16822      TEST\n",
       "7405   Model_LSTM3_12-0.06.h5      18.880700         33.16822      TEST\n",
       "6266   Model_LSTM8_24-0.06.h5      18.827540         33.16822      TEST\n",
       "556     Model_LSTM_10-0.06.h5      18.809580         33.16822      TEST\n",
       "3447   Model_LSTM6_82-0.05.h5      18.804720         33.16822      TEST\n",
       "4003   Model_LSTM6_32-0.06.h5      18.764820         33.16822      TEST\n",
       "12600  Model_LSTM6_57-0.06.h5      18.747460         33.16822      TEST\n",
       "5532   Model_LSTM6_28-0.06.h5      18.708000         33.16822      TEST\n",
       "2201    Model_LSTM_04-0.06.h5      18.674880         33.16822      TEST\n",
       "8903   Model_LSTM6_52-0.06.h5      18.650770         33.16822      TEST\n",
       "11070  Model_LSTM8_17-0.06.h5      18.566590         33.16822      TEST\n",
       "3038   Model_LSTM8_16-0.06.h5      18.524140         33.16822      TEST\n",
       "8446   Model_LSTM5_11-0.06.h5      18.439760         33.16822      TEST\n",
       "1903    Model_LSTM_05-0.06.h5      18.425990         33.16822      TEST\n",
       "9167   Model_LSTM4_07-0.06.h5      17.850820         33.16822      TEST\n",
       "5815   Model_LSTM4_12-0.06.h5      17.836430         33.16822      TEST\n",
       "3591   Model_LSTM6_27-0.06.h5      17.640820         33.16822      TEST\n",
       "1120   Model_LSTM2_08-0.07.h5      17.636290         33.16822      TEST\n",
       "5678   Model_LSTM3_02-0.06.h5      17.627390         33.16822      TEST\n",
       "419    Model_LSTM2_20-0.06.h5      17.625230         33.16822      TEST\n",
       "4685   Model_LSTM8_29-0.06.h5      17.612430         33.16822      TEST\n",
       "5961   Model_LSTM8_43-0.06.h5      17.607880         33.16822      TEST\n",
       "7860   Model_LSTM8_11-0.07.h5      17.591480         33.16822      TEST\n",
       "6553   Model_LSTM3_06-0.06.h5      17.583170         33.16822      TEST\n",
       "11217  Model_LSTM3_07-0.06.h5      17.581910         33.16822      TEST\n",
       "4535   Model_LSTM5_08-0.06.h5      17.551930         33.16822      TEST\n",
       "4387   Model_LSTM3_05-0.06.h5      17.541830         33.16822      TEST\n",
       "9999   Model_LSTM5_35-0.06.h5      17.540150         33.16822      TEST\n",
       "1261   Model_LSTM2_11-0.06.h5      17.531420         33.16822      TEST\n",
       "8004   Model_LSTM4_03-0.06.h5      17.531370         33.16822      TEST\n",
       "...                       ...            ...              ...       ...\n",
       "13180  Model_LSTM9_05-0.07.h5      16.787120         33.16822      TEST\n",
       "3728   Model_LSTM6_01-0.07.h5      16.650480         33.16822      TEST\n",
       "12746  Model_LSTM8_03-0.08.h5      16.631730         33.16822      TEST\n",
       "2654    Model_LSTM_09-0.06.h5      16.496560         33.16822      TEST\n",
       "8313   Model_LSTM8_01-0.09.h5      16.436360         33.16822      TEST\n",
       "7704   Model_LSTM8_20-0.06.h5      16.054500         33.16822      TEST\n",
       "13463  Model_LSTM9_24-0.06.h5      15.974450         33.16822      TEST\n",
       "2893   Model_LSTM2_02-0.07.h5      15.841470         33.16822      TEST\n",
       "9564   Model_LSTM4_14-0.06.h5      15.717120         33.16822      TEST\n",
       "711     Model_LSTM_01-0.07.h5      15.656360         33.16822      TEST\n",
       "266     Model_LSTM_00-0.08.h5      15.616570         33.16822      TEST\n",
       "3864   Model_LSTM6_07-0.07.h5      15.583120         33.16822      TEST\n",
       "4244   Model_LSTM6_00-0.08.h5      15.559220         33.16822      TEST\n",
       "2808   Model_LSTM2_01-0.07.h5      15.474770         33.16822      TEST\n",
       "6113   Model_LSTM4_00-0.07.h5      15.254990         33.16822      TEST\n",
       "14145  Model_LSTM9_03-0.07.h5      14.644550         33.16822      TEST\n",
       "13311  Model_LSTM9_02-0.07.h5      14.315080         33.16822      TEST\n",
       "13033  Model_LSTM9_00-0.09.h5      13.954480         33.16822      TEST\n",
       "9317   Model_LSTM6_04-0.07.h5      13.039900         33.16822      TEST\n",
       "4846   Model_LSTM7_09-0.11.h5       4.691160         33.16822      TEST\n",
       "10150  Model_LSTM7_03-0.11.h5       4.670579         33.16822      TEST\n",
       "9050   Model_LSTM7_01-0.11.h5       4.414812         33.16822      TEST\n",
       "10837  Model_LSTM7_08-0.11.h5       4.164865         33.16822      TEST\n",
       "10411  Model_LSTM7_00-0.11.h5       4.018207         33.16822      TEST\n",
       "4968   Model_LSTM7_24-0.10.h5       3.786303         33.16822      TEST\n",
       "12077  Model_LSTM7_07-0.11.h5       3.769506         33.16822      TEST\n",
       "4143   Model_LSTM7_02-0.11.h5       3.646754         33.16822      TEST\n",
       "3331   Model_LSTM7_21-0.10.h5       3.535589         33.16822      TEST\n",
       "7144   Model_LSTM7_05-0.11.h5       3.512474         33.16822      TEST\n",
       "11817  Model_LSTM7_17-0.10.h5       3.290472         33.16822      TEST\n",
       "\n",
       "[95 rows x 4 columns]"
      ]
     },
     "execution_count": 4,
     "metadata": {},
     "output_type": "execute_result"
    }
   ],
   "source": [
    "FUll_Results[FUll_Results['Data Type']=='TEST'].sort_values(['Perfect Score'],ascending=False)"
   ]
  },
  {
   "cell_type": "code",
   "execution_count": 21,
   "metadata": {
    "collapsed": false,
    "scrolled": false
   },
   "outputs": [],
   "source": [
    "data=[]\n",
    "x = ['Model_LSTM_07-0.06.h5','Model_LSTM3_28-0.06.h5','Model_LSTM6_82-0.05.h5']\n",
    "for i in x:#FUll_Results['Model'].unique():\n",
    "    t = FUll_Results[FUll_Results['Model']==i]['Perfect Score']\n",
    "    tstresult = FUll_Results[(FUll_Results['Model']==i)&(FUll_Results['Data Type']=='TEST')]['Perfect Score'].as_matrix()\n",
    "    tup = (i[6:],t.mean(),t.median(),t.min(),t.max(),tstresult,t.std())\n",
    "    data.append(tup)\n",
    "    #print('M:{},AR:{},MedR:{},MiR:{},MXR:{}'.format(tup[0],tup[1],tup[2],tup[3],tup[4]))"
   ]
  },
  {
   "cell_type": "code",
   "execution_count": 18,
   "metadata": {
    "collapsed": false
   },
   "outputs": [
    {
     "name": "stdout",
     "output_type": "stream",
     "text": [
      "Model With Maximum Average\n",
      "('LSTM_07-0.06.h5', 15.745453294117647, 16.81371, 3.7798660000000002, 20.742439999999998, array([ 18.96678]), 3.8202085745816303)\n",
      "Model With Maximum Median\n",
      "('LSTM_07-0.06.h5', 15.745453294117647, 16.81371, 3.7798660000000002, 20.742439999999998, array([ 18.96678]), 3.8202085745816303)\n",
      "Model With Maximum minimum\n",
      "('LSTM_07-0.06.h5', 15.745453294117647, 16.81371, 3.7798660000000002, 20.742439999999998, array([ 18.96678]), 3.8202085745816303)\n",
      "Model With Maximum max\n",
      "('LSTM_07-0.06.h5', 15.745453294117647, 16.81371, 3.7798660000000002, 20.742439999999998, array([ 18.96678]), 3.8202085745816303)\n",
      "('LSTM_07-0.06.h5', 15.745453294117647, 16.81371, 3.7798660000000002, 20.742439999999998, array([ 18.96678]), 3.8202085745816303)\n"
     ]
    }
   ],
   "source": [
    "print('Model With Maximum Average')\n",
    "print(sorted(data, key=lambda x: x[1],reverse=True)[0])\n",
    "print('Model With Maximum Median')\n",
    "print(sorted(data, key=lambda x: x[2],reverse=True)[0])\n",
    "print('Model With Maximum minimum')\n",
    "print(sorted(data, key=lambda x: x[3],reverse=True)[0])\n",
    "print('Model With Maximum max')\n",
    "print(sorted(data, key=lambda x: x[4],reverse=True)[0])\n",
    "print(sorted(data, key=lambda x: x[5],reverse=True)[0])"
   ]
  },
  {
   "cell_type": "code",
   "execution_count": 24,
   "metadata": {
    "collapsed": false
   },
   "outputs": [
    {
     "name": "stdout",
     "output_type": "stream",
     "text": [
      "('LSTM_07-0.06.h5', 15.745453294117647, 16.81371, 3.7798660000000002, 20.742439999999998, array([ 18.96678]), 3.8202085745816303)\n",
      "('LSTM3_28-0.06.h5', 17.285850237179492, 18.46808, 5.4808510000000004, 21.130379999999999, array([ 17.43621]), 3.37599342055413)\n",
      "('LSTM6_82-0.05.h5', 16.583094486111108, 17.666040000000002, 4.5193349999999999, 20.38325, array([ 18.80472]), 3.6747361014508768)\n"
     ]
    }
   ],
   "source": [
    "for i in data:\n",
    "    print(i)"
   ]
  },
  {
   "cell_type": "code",
   "execution_count": 30,
   "metadata": {
    "collapsed": false
   },
   "outputs": [
    {
     "data": {
      "text/plain": [
       "[(1, -10), (1, 2), (1, 4), (5, 7)]"
      ]
     },
     "execution_count": 30,
     "metadata": {},
     "output_type": "execute_result"
    }
   ],
   "source": [
    "sorted([(1,2),(1,4),(5,7),(1,-10)],key=lambda x:x[1])"
   ]
  },
  {
   "cell_type": "markdown",
   "metadata": {},
   "source": [
    "# Here Generating the Results and Storing them.\n",
    "# Prepare the data"
   ]
  },
  {
   "cell_type": "code",
   "execution_count": 39,
   "metadata": {
    "collapsed": false,
    "scrolled": true
   },
   "outputs": [],
   "source": [
    "train = pd.read_csv('../Data/train.csv')\n",
    "#ftest[ftest.columns[[0]+[i for i in range(10,18)]]]\n",
    "#train.head()\n",
    "def GetData(ds, splitper=0.2): #Splitter is stopped \n",
    "    np.random.seed(1337)\n",
    "    #Convert The Percentage to split point\n",
    "    splitper = 50 #int(math.floor(splitper * ds.shape[0] + 1))\n",
    "\n",
    "    #Shuffle the list\n",
    "    #Shuffle is stopped so we can get stable measurements\n",
    "    #ds = ds.iloc[np.random.permutation(len(ds))]\n",
    "    \n",
    "    #Get tarin,test\n",
    "    ls = [i for i in range(10,18)]\n",
    "    ls+=[0,2]\n",
    "    x_train = ds.iloc[splitper:][np.delete(ds.columns, ls)]\n",
    "    y_train = ds.iloc[splitper:][ds.columns[10:18]]\n",
    "    x_test = ds.iloc[:splitper][np.delete(ds.columns, ls)]\n",
    "    y_test = ds.iloc[:splitper][ds.columns[10:18]]\n",
    "    return (x_train.as_matrix(),y_train.as_matrix()),(x_test.as_matrix(),y_test.as_matrix()) \n",
    "\n",
    "def GetData2(ds, splitper=0.2): #Splitter is stopped \n",
    "    np.random.seed(1337)\n",
    "    #Convert The Percentage to split point\n",
    "    splitper = int(math.floor(splitper * ds.shape[0] + 1))\n",
    "    scaler = MinMaxScaler(feature_range=(0, 1))\n",
    "    ds = scaler.fit_transform(ds)\n",
    "    #Shuffle the list\n",
    "    #Shuffle is stopped so we can get stable measurements\n",
    "    #ds = ds.iloc[np.random.permutation(len(ds))]\n",
    "    \n",
    "    #Get tarin,test\n",
    "    ls = [i for i in range(10,18)]\n",
    "    ls+=[0,2]\n",
    "    \n",
    "    x_train = ds[splitper:, np.delete(range(ds.shape[1]), ls)]\n",
    "    y_train = ds[splitper:, 10:18]\n",
    "    x_test = ds[:splitper, np.delete(range(ds.shape[1]), ls)]\n",
    "    y_test = ds[:splitper, 10:18]\n",
    "    \n",
    "    return (x_train,y_train),(x_test,y_test)\n",
    "def GetData3(ds):#, splitper=0.2): Splitter is stopped \n",
    "    np.random.seed(1337)\n",
    "    #Convert The Percentage to split point\n",
    "    splitper = 50 #int(math.floor(splitper * ds.shape[0] + 1))\n",
    "\n",
    "    #Shuffle the list\n",
    "    #Shuffle is stopped so we can get stable measurements\n",
    "    #ds = ds.iloc[np.random.permutation(len(ds))]\n",
    "    \n",
    "    #Get tarin,test\n",
    "    ls = [i for i in range(10,18)]\n",
    "    ls+=[0,2]\n",
    "    x_train = ds.iloc[splitper:][np.delete(ds.columns, ls)]*1000\n",
    "    y_train = ds.iloc[splitper:][ds.columns[10:18]]*1000\n",
    "    x_test = ds.iloc[:splitper][np.delete(ds.columns, ls)]*1000\n",
    "    y_test = ds.iloc[:splitper][ds.columns[10:18]]*1000\n",
    "    return (x_train.as_matrix(),y_train.as_matrix()),(x_test.as_matrix(),y_test.as_matrix()) \n",
    "def GetData4(ds):#, splitper=0.2): Splitter is stopped \n",
    "    np.random.seed(1337)\n",
    "    #Convert The Percentage to split point\n",
    "    splitper = 50 #int(math.floor(splitper * ds.shape[0] + 1))\n",
    "    scaler = MinMaxScaler(feature_range=(0, 1000))\n",
    "    ds = scaler.fit_transform(ds)\n",
    "    #Shuffle the list\n",
    "    #Shuffle is stopped so we can get stable measurements\n",
    "    #ds = ds.iloc[np.random.permutation(len(ds))]\n",
    "    \n",
    "    #Get tarin,test\n",
    "    ls = [i for i in range(10,18)]\n",
    "    ls+=[0,2]\n",
    "    \n",
    "    x_train = ds[splitper:, np.delete(range(ds.shape[1]), ls)]\n",
    "    y_train = ds[splitper:, 10:18]\n",
    "    x_test = ds[:splitper, np.delete(range(ds.shape[1]), ls)]\n",
    "    y_test = ds[:splitper, 10:18]\n",
    "    \n",
    "    return (x_train,y_train),(x_test,y_test)"
   ]
  },
  {
   "cell_type": "code",
   "execution_count": 40,
   "metadata": {
    "collapsed": false
   },
   "outputs": [
    {
     "data": {
      "text/html": [
       "<div>\n",
       "<table border=\"1\" class=\"dataframe\">\n",
       "  <thead>\n",
       "    <tr style=\"text-align: right;\">\n",
       "      <th></th>\n",
       "      <th>GeneID</th>\n",
       "      <th>absolute expression, parental strain t=0 (arbitrary units)</th>\n",
       "      <th>wt t=0</th>\n",
       "      <th>wt t=10</th>\n",
       "      <th>wt t=20</th>\n",
       "      <th>wt t=30</th>\n",
       "      <th>wt t=45</th>\n",
       "      <th>wt t=60</th>\n",
       "      <th>wt t=90</th>\n",
       "      <th>wt t=120</th>\n",
       "      <th>...</th>\n",
       "      <th>tfB-del t=90</th>\n",
       "      <th>tfB-del t=120</th>\n",
       "      <th>tfC-del t=0</th>\n",
       "      <th>tfC-del t=10</th>\n",
       "      <th>tfC-del t=20</th>\n",
       "      <th>tfC-del t=30</th>\n",
       "      <th>tfC-del t=45</th>\n",
       "      <th>tfC-del t=60</th>\n",
       "      <th>tfC-del t=90</th>\n",
       "      <th>tfC-del t=120</th>\n",
       "    </tr>\n",
       "  </thead>\n",
       "  <tbody>\n",
       "    <tr>\n",
       "      <th>0</th>\n",
       "      <td>45</td>\n",
       "      <td>0.194</td>\n",
       "      <td>0.0</td>\n",
       "      <td>0.080</td>\n",
       "      <td>-0.021</td>\n",
       "      <td>-0.208</td>\n",
       "      <td>0.071</td>\n",
       "      <td>-0.066</td>\n",
       "      <td>-0.064</td>\n",
       "      <td>-0.062</td>\n",
       "      <td>...</td>\n",
       "      <td>0.082</td>\n",
       "      <td>-0.080</td>\n",
       "      <td>-0.185</td>\n",
       "      <td>-0.205</td>\n",
       "      <td>-0.072</td>\n",
       "      <td>-0.061</td>\n",
       "      <td>0.000</td>\n",
       "      <td>0.042</td>\n",
       "      <td>-0.147</td>\n",
       "      <td>-0.246</td>\n",
       "    </tr>\n",
       "    <tr>\n",
       "      <th>1</th>\n",
       "      <td>7767</td>\n",
       "      <td>1.480</td>\n",
       "      <td>0.0</td>\n",
       "      <td>-0.467</td>\n",
       "      <td>-0.376</td>\n",
       "      <td>-0.619</td>\n",
       "      <td>-0.199</td>\n",
       "      <td>-0.107</td>\n",
       "      <td>-0.143</td>\n",
       "      <td>-0.210</td>\n",
       "      <td>...</td>\n",
       "      <td>0.302</td>\n",
       "      <td>-0.148</td>\n",
       "      <td>-0.149</td>\n",
       "      <td>-0.383</td>\n",
       "      <td>0.183</td>\n",
       "      <td>-0.007</td>\n",
       "      <td>0.020</td>\n",
       "      <td>-0.052</td>\n",
       "      <td>0.074</td>\n",
       "      <td>0.188</td>\n",
       "    </tr>\n",
       "    <tr>\n",
       "      <th>2</th>\n",
       "      <td>3443</td>\n",
       "      <td>13.960</td>\n",
       "      <td>0.0</td>\n",
       "      <td>-0.313</td>\n",
       "      <td>-0.147</td>\n",
       "      <td>-0.641</td>\n",
       "      <td>-0.098</td>\n",
       "      <td>-0.200</td>\n",
       "      <td>-0.305</td>\n",
       "      <td>-0.083</td>\n",
       "      <td>...</td>\n",
       "      <td>-0.478</td>\n",
       "      <td>-0.611</td>\n",
       "      <td>-0.385</td>\n",
       "      <td>-0.591</td>\n",
       "      <td>-0.320</td>\n",
       "      <td>-0.110</td>\n",
       "      <td>-0.469</td>\n",
       "      <td>-0.443</td>\n",
       "      <td>-0.285</td>\n",
       "      <td>-0.356</td>\n",
       "    </tr>\n",
       "    <tr>\n",
       "      <th>3</th>\n",
       "      <td>5965</td>\n",
       "      <td>132.600</td>\n",
       "      <td>0.0</td>\n",
       "      <td>-0.183</td>\n",
       "      <td>-0.106</td>\n",
       "      <td>-0.448</td>\n",
       "      <td>-0.119</td>\n",
       "      <td>-0.167</td>\n",
       "      <td>-0.245</td>\n",
       "      <td>-0.194</td>\n",
       "      <td>...</td>\n",
       "      <td>-0.302</td>\n",
       "      <td>-0.473</td>\n",
       "      <td>-0.285</td>\n",
       "      <td>-0.493</td>\n",
       "      <td>-0.358</td>\n",
       "      <td>-0.405</td>\n",
       "      <td>-0.500</td>\n",
       "      <td>-0.344</td>\n",
       "      <td>-0.263</td>\n",
       "      <td>-0.376</td>\n",
       "    </tr>\n",
       "    <tr>\n",
       "      <th>4</th>\n",
       "      <td>1341</td>\n",
       "      <td>0.148</td>\n",
       "      <td>0.0</td>\n",
       "      <td>0.165</td>\n",
       "      <td>0.183</td>\n",
       "      <td>0.186</td>\n",
       "      <td>0.103</td>\n",
       "      <td>0.130</td>\n",
       "      <td>0.108</td>\n",
       "      <td>0.186</td>\n",
       "      <td>...</td>\n",
       "      <td>0.112</td>\n",
       "      <td>0.349</td>\n",
       "      <td>0.037</td>\n",
       "      <td>0.013</td>\n",
       "      <td>-0.006</td>\n",
       "      <td>0.057</td>\n",
       "      <td>0.053</td>\n",
       "      <td>0.163</td>\n",
       "      <td>-0.024</td>\n",
       "      <td>-0.065</td>\n",
       "    </tr>\n",
       "  </tbody>\n",
       "</table>\n",
       "<p>5 rows × 34 columns</p>\n",
       "</div>"
      ],
      "text/plain": [
       "   GeneID  absolute expression, parental strain t=0 (arbitrary units)  wt t=0  \\\n",
       "0      45                                              0.194              0.0   \n",
       "1    7767                                              1.480              0.0   \n",
       "2    3443                                             13.960              0.0   \n",
       "3    5965                                            132.600              0.0   \n",
       "4    1341                                              0.148              0.0   \n",
       "\n",
       "   wt t=10  wt t=20  wt t=30  wt t=45  wt t=60  wt t=90  wt t=120  \\\n",
       "0    0.080   -0.021   -0.208    0.071   -0.066   -0.064    -0.062   \n",
       "1   -0.467   -0.376   -0.619   -0.199   -0.107   -0.143    -0.210   \n",
       "2   -0.313   -0.147   -0.641   -0.098   -0.200   -0.305    -0.083   \n",
       "3   -0.183   -0.106   -0.448   -0.119   -0.167   -0.245    -0.194   \n",
       "4    0.165    0.183    0.186    0.103    0.130    0.108     0.186   \n",
       "\n",
       "       ...        tfB-del t=90  tfB-del t=120  tfC-del t=0  tfC-del t=10  \\\n",
       "0      ...               0.082         -0.080       -0.185        -0.205   \n",
       "1      ...               0.302         -0.148       -0.149        -0.383   \n",
       "2      ...              -0.478         -0.611       -0.385        -0.591   \n",
       "3      ...              -0.302         -0.473       -0.285        -0.493   \n",
       "4      ...               0.112          0.349        0.037         0.013   \n",
       "\n",
       "   tfC-del t=20  tfC-del t=30  tfC-del t=45  tfC-del t=60  tfC-del t=90  \\\n",
       "0        -0.072        -0.061         0.000         0.042        -0.147   \n",
       "1         0.183        -0.007         0.020        -0.052         0.074   \n",
       "2        -0.320        -0.110        -0.469        -0.443        -0.285   \n",
       "3        -0.358        -0.405        -0.500        -0.344        -0.263   \n",
       "4        -0.006         0.057         0.053         0.163        -0.024   \n",
       "\n",
       "   tfC-del t=120  \n",
       "0         -0.246  \n",
       "1          0.188  \n",
       "2         -0.356  \n",
       "3         -0.376  \n",
       "4         -0.065  \n",
       "\n",
       "[5 rows x 34 columns]"
      ]
     },
     "execution_count": 40,
     "metadata": {},
     "output_type": "execute_result"
    }
   ],
   "source": [
    "train.head()"
   ]
  },
  {
   "cell_type": "code",
   "execution_count": 42,
   "metadata": {
    "collapsed": false
   },
   "outputs": [
    {
     "name": "stdout",
     "output_type": "stream",
     "text": [
      "Loading data...\n",
      "train: (8356, 24) (8356, 8)\n",
      "test:  (929, 24) (929, 8)\n"
     ]
    }
   ],
   "source": [
    "print('Loading data...')\n",
    "FUll_Results = pd.read_csv('Results.csv')\n",
    "#(X_train, y_train), (X_test, y_test) =GetData()\n",
    "(x_train,y_train),(x_test,y_test) = GetData2(train,0.1)\n",
    "print('train:',x_train.shape,y_train.shape)\n",
    "print('test: ',x_test.shape,y_test.shape)"
   ]
  },
  {
   "cell_type": "markdown",
   "metadata": {},
   "source": [
    "# Manual Testing\n",
    "* Remember to select the data in the right shape for the model."
   ]
  },
  {
   "cell_type": "code",
   "execution_count": 5,
   "metadata": {
    "collapsed": false
   },
   "outputs": [
    {
     "ename": "NameError",
     "evalue": "name 'modelname' is not defined",
     "output_type": "error",
     "traceback": [
      "\u001b[0;31m---------------------------------------------------------------------------\u001b[0m",
      "\u001b[0;31mNameError\u001b[0m                                 Traceback (most recent call last)",
      "\u001b[0;32m<ipython-input-5-9029de52b231>\u001b[0m in \u001b[0;36m<module>\u001b[0;34m()\u001b[0m\n\u001b[0;32m----> 1\u001b[0;31m \u001b[0mmodel\u001b[0m \u001b[0;34m=\u001b[0m \u001b[0mload_model\u001b[0m\u001b[0;34m(\u001b[0m\u001b[0;34m'output_files/{}'\u001b[0m\u001b[0;34m.\u001b[0m\u001b[0mformat\u001b[0m\u001b[0;34m(\u001b[0m\u001b[0mmodelname\u001b[0m\u001b[0;34m)\u001b[0m\u001b[0;34m)\u001b[0m\u001b[0;34m\u001b[0m\u001b[0m\n\u001b[0m\u001b[1;32m      2\u001b[0m \u001b[0mprint\u001b[0m\u001b[0;34m(\u001b[0m\u001b[0;34m'Finished loading'\u001b[0m\u001b[0;34m)\u001b[0m\u001b[0;34m\u001b[0m\u001b[0m\n\u001b[1;32m      3\u001b[0m \u001b[0morg\u001b[0m \u001b[0;34m=\u001b[0m \u001b[0mRANK\u001b[0m\u001b[0;34m(\u001b[0m\u001b[0my_test\u001b[0m\u001b[0;34m)\u001b[0m\u001b[0;34m\u001b[0m\u001b[0m\n\u001b[1;32m      4\u001b[0m \u001b[0mpred\u001b[0m \u001b[0;34m=\u001b[0m \u001b[0mmodel\u001b[0m\u001b[0;34m.\u001b[0m\u001b[0mpredict\u001b[0m\u001b[0;34m(\u001b[0m\u001b[0mx_test\u001b[0m\u001b[0;34m)\u001b[0m\u001b[0;34m\u001b[0m\u001b[0m\n\u001b[1;32m      5\u001b[0m \u001b[0mpred\u001b[0m\u001b[0;34m=\u001b[0m \u001b[0mRANK\u001b[0m\u001b[0;34m(\u001b[0m\u001b[0mpred\u001b[0m\u001b[0;34m)\u001b[0m\u001b[0;34m\u001b[0m\u001b[0m\n",
      "\u001b[0;31mNameError\u001b[0m: name 'modelname' is not defined"
     ]
    }
   ],
   "source": [
    "model = load_model('output_files/{}'.format(modelname))\n",
    "print('Finished loading')\n",
    "org = RANK(y_test)\n",
    "pred = model.predict(x_test)\n",
    "pred= RANK(pred)\n",
    "predscore =Calculate_Score(pred,org)\n",
    "orgscore = Calculate_Score(org,org)\n",
    "print('C:{},P:{}'.format(predscore,orgscore))"
   ]
  },
  {
   "cell_type": "markdown",
   "metadata": {},
   "source": [
    "# Test All Models Automatically on All the data\n",
    "   * FUll_Results = pd.DataFrame(columns=['Model','Perfect Score','Predicted Score','Data Type'])"
   ]
  },
  {
   "cell_type": "code",
   "execution_count": 8,
   "metadata": {
    "collapsed": true
   },
   "outputs": [],
   "source": [
    "def Add_Info_DataSet(model,Predicted,Perfect,DataType):\n",
    "    global FUll_Results\n",
    "    FUll_Results = FUll_Results.append(pd.Series((model,Predicted,Perfect,DataType),index=['Model','Perfect Score','Predicted Score','Data Type']),ignore_index=True)"
   ]
  },
  {
   "cell_type": "code",
   "execution_count": 9,
   "metadata": {
    "collapsed": false,
    "scrolled": true
   },
   "outputs": [],
   "source": [
    "def StudyAModel(modelname):\n",
    "    print('loading model')\n",
    "    print(modelname)\n",
    "    model = load_model('output_files/{}'.format(modelname))\n",
    "    print('Finished loading')\n",
    "    org = RANK(y_test)\n",
    "    pred = model.predict(x_test)\n",
    "    pred= RANK(pred)\n",
    "    predscore =Calculate_Score(pred,org)\n",
    "    orgscore = Calculate_Score(org,org)\n",
    "    print('C:{},P:{}'.format(predscore,orgscore))\n",
    "    #Add_Info_DataSet(modelname,predscore,orgscore,'TEST')\n",
    "    #for i in range(0,184):\n",
    "    #    x_tst = x_train[i*50:i*50+50]\n",
    "    #    y_tst = y_train[i*50:i*50+50]\n",
    "    #    org = RANK(y_tst)\n",
    "\n",
    "    #    pred = model.predict(x_tst)\n",
    "    #    pred = RANK(pred)\n",
    "    #    predscore = Calculate_Score(pred,org)\n",
    "    #    orgscore = Calculate_Score(org,org)\n",
    "    #    if isinstance(predscore,str) or isinstance(orgscore,str):\n",
    "    #        #problems.append('check{}, Score:{},{} '.format(i,str(predscore).strip(),str(orgscore).strip()))\n",
    "    #        pass\n",
    "    #    else:\n",
    "    #        Add_Info_DataSet(modelname,predscore,orgscore,'TRN{}-{}'.format(i*50,i*50+50))\n",
    "    print('Finished: {}'.format(modelname))"
   ]
  },
  {
   "cell_type": "code",
   "execution_count": 10,
   "metadata": {
    "collapsed": true
   },
   "outputs": [],
   "source": [
    "files=[]\n",
    "for file in os.listdir(\"output_files/\"):\n",
    "    if file.endswith(\".h5\"):\n",
    "        files.append(file)"
   ]
  },
  {
   "cell_type": "code",
   "execution_count": 11,
   "metadata": {
    "collapsed": false,
    "scrolled": false
   },
   "outputs": [
    {
     "name": "stdout",
     "output_type": "stream",
     "text": [
      "loading model\n",
      "Model_LSTM12_03-1300.72.h5\n",
      "Finished loading\n",
      "C:[1] NA\n",
      ",P:33.16822\n",
      "Finished: Model_LSTM12_03-1300.72.h5\n",
      "loading model\n",
      "Model_LSTM12_02-1336.87.h5\n",
      "Finished loading\n",
      "C:[1] NA\n",
      ",P:33.16822\n",
      "Finished: Model_LSTM12_02-1336.87.h5\n",
      "loading model\n",
      "Model_LSTM12_00-1530.20.h5\n",
      "Finished loading\n",
      "C:[1] NA\n",
      ",P:33.16822\n",
      "Finished: Model_LSTM12_00-1530.20.h5\n",
      "loading model\n",
      "Model_LSTM12_04-1206.62.h5\n",
      "Finished loading\n",
      "C:[1] NA\n",
      ",P:33.16822\n",
      "Finished: Model_LSTM12_04-1206.62.h5\n"
     ]
    }
   ],
   "source": [
    "#x_train = np.reshape(x_train,(x_train.shape[0],1,x_train.shape[1]))\n",
    "#x_test = np.reshape(x_test,(x_test.shape[0],1,x_test.shape[1]))\n",
    "#x_train = np.reshape(x_train,(x_train.shape[0],x_train.shape[1], 1))\n",
    "#x_test = np.reshape(x_test,(x_test.shape[0],x_test.shape[1], 1))\n",
    "for i in files:\n",
    "    StudyAModel(i)"
   ]
  },
  {
   "cell_type": "code",
   "execution_count": 11,
   "metadata": {
    "collapsed": false
   },
   "outputs": [],
   "source": [
    "#FUll_Results.to_csv('Results.csv',index=False)"
   ]
  },
  {
   "cell_type": "markdown",
   "metadata": {},
   "source": [
    "# Generate Best Results "
   ]
  },
  {
   "cell_type": "code",
   "execution_count": 2,
   "metadata": {
    "collapsed": false
   },
   "outputs": [],
   "source": [
    "ftest = pd.read_csv('../Data/test.csv')"
   ]
  },
  {
   "cell_type": "code",
   "execution_count": 3,
   "metadata": {
    "collapsed": false
   },
   "outputs": [
    {
     "name": "stdout",
     "output_type": "stream",
     "text": [
      "loading model\n",
      "Finished loading\n"
     ]
    }
   ],
   "source": [
    "ls = [i for i in range(10,18)]\n",
    "ls+=[0,2]\n",
    "f_x_test = ftest.iloc[:][np.delete(ftest.columns, ls)].as_matrix()\n",
    "f_x_test = np.reshape(f_x_test,(f_x_test.shape[0],1,f_x_test.shape[1]))\n",
    "print('loading model')\n",
    "\n",
    "model1 = load_model('output_files/Model_LSTM_07-0.06.h5')\n",
    "model2 = load_model('output_files/Model_LSTM6_82-0.05.h5')\n",
    "#model = load_model('output_files/Model_LSTM3_12-0.06.h5')\n",
    "model3 = load_model('output_files/Model_LSTM3_28-0.06.h5')\n",
    "print('Finished loading')"
   ]
  },
  {
   "cell_type": "code",
   "execution_count": 5,
   "metadata": {
    "collapsed": false,
    "scrolled": true
   },
   "outputs": [],
   "source": [
    "pred1= np.array(RANK(model1.predict(f_x_test)),dtype=int)\n",
    "pred2= np.array(RANK(model2.predict(f_x_test)),dtype=int)\n",
    "pred3= np.array(RANK(model3.predict(f_x_test)),dtype=int)"
   ]
  },
  {
   "cell_type": "code",
   "execution_count": 6,
   "metadata": {
    "collapsed": false
   },
   "outputs": [
    {
     "name": "stdout",
     "output_type": "stream",
     "text": [
      "32.90585\n",
      "34.48005\n",
      "32.38111\n"
     ]
    }
   ],
   "source": [
    "print(Calculate_Score(pred1,pred1))\n",
    "print(Calculate_Score(pred2,pred2))\n",
    "print(Calculate_Score(pred3,pred3))"
   ]
  },
  {
   "cell_type": "code",
   "execution_count": 11,
   "metadata": {
    "collapsed": false
   },
   "outputs": [
    {
     "name": "stdout",
     "output_type": "stream",
     "text": [
      "21.22626\n"
     ]
    }
   ],
   "source": [
    "print(Calculate_Score(pred1,pred2))"
   ]
  },
  {
   "cell_type": "code",
   "execution_count": 31,
   "metadata": {
    "collapsed": false
   },
   "outputs": [
    {
     "name": "stdout",
     "output_type": "stream",
     "text": [
      "0.0968229 1.170466\n",
      "0.1158876 1.052978\n",
      "0.07944558 1.083531\n",
      "0.8094271\n"
     ]
    }
   ],
   "source": [
    "leak = pd.read_csv('Cossacks_svm.csv',sep='\\t')\n",
    "example = pd.read_csv('example.csv',sep='\\t')\n",
    "example = example[example.columns[1:]]\n",
    "print(Calculate_Score(leak.as_matrix(),pred1),Calculate_Score(example.as_matrix(),pred1))\n",
    "print(Calculate_Score(leak.as_matrix(),pred2),Calculate_Score(example.as_matrix(),pred2))\n",
    "print(Calculate_Score(leak.as_matrix(),pred3),Calculate_Score(example.as_matrix(),pred3))\n",
    "print(Calculate_Score(example.as_matrix(),leak.as_matrix()))"
   ]
  },
  {
   "cell_type": "code",
   "execution_count": 19,
   "metadata": {
    "collapsed": false
   },
   "outputs": [],
   "source": [
    "ftest.iloc[:,10:18]=pred1\n",
    "newls = ls[:-2]\n",
    "newls = [0]+newls\n",
    "ftest[ftest.columns[newls]].to_csv('model1.txt',index=False,sep='\\t')"
   ]
  },
  {
   "cell_type": "code",
   "execution_count": 20,
   "metadata": {
    "collapsed": true
   },
   "outputs": [],
   "source": [
    "ftest.iloc[:,10:18]=pred2\n",
    "newls = ls[:-2]\n",
    "newls = [0]+newls\n",
    "ftest[ftest.columns[newls]].to_csv('model2.txt',index=False,sep='\\t')"
   ]
  },
  {
   "cell_type": "code",
   "execution_count": 32,
   "metadata": {
    "collapsed": true
   },
   "outputs": [],
   "source": [
    "ftest.iloc[:,10:18]=pred3\n",
    "newls = ls[:-2]\n",
    "newls = [0]+newls\n",
    "ftest[ftest.columns[newls]].to_csv('model3.txt',index=False,sep='\\t')"
   ]
  },
  {
   "cell_type": "code",
   "execution_count": null,
   "metadata": {
    "collapsed": true
   },
   "outputs": [],
   "source": []
  }
 ],
 "metadata": {
  "kernelspec": {
   "display_name": "Python 3",
   "language": "python",
   "name": "python3"
  },
  "language_info": {
   "codemirror_mode": {
    "name": "ipython",
    "version": 3
   },
   "file_extension": ".py",
   "mimetype": "text/x-python",
   "name": "python",
   "nbconvert_exporter": "python",
   "pygments_lexer": "ipython3",
   "version": "3.5.2"
  },
  "widgets": {
   "state": {},
   "version": "1.1.2"
  }
 },
 "nbformat": 4,
 "nbformat_minor": 0
}
