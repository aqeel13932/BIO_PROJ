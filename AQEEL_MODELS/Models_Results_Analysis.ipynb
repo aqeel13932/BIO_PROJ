{
 "cells": [
  {
   "cell_type": "code",
   "execution_count": 1,
   "metadata": {
    "collapsed": false
   },
   "outputs": [
    {
     "name": "stderr",
     "output_type": "stream",
     "text": [
      "Using TensorFlow backend.\n"
     ]
    }
   ],
   "source": [
    "__author__ = 'aqeel'\n",
    "import numpy as np\n",
    "import os\n",
    "from keras.models import load_model,Model\n",
    "from ALutils import RANK, Calculate_Score\n",
    "import pandas as pd\n",
    "np.random.seed(1377)"
   ]
  },
  {
   "cell_type": "markdown",
   "metadata": {},
   "source": [
    "### Prepare the data"
   ]
  },
  {
   "cell_type": "code",
   "execution_count": 2,
   "metadata": {
    "collapsed": false,
    "scrolled": true
   },
   "outputs": [],
   "source": [
    "train = pd.read_csv('../Data/train.csv')\n",
    "ftest = pd.read_csv('../Data/test.csv')\n",
    "#ftest[ftest.columns[[0]+[i for i in range(10,18)]]]\n",
    "#train.head()\n",
    "def GetData(ds):#, splitper=0.2): Splitter is stopped \n",
    "    np.random.seed(1337)\n",
    "    #Convert The Percentage to split point\n",
    "    splitper = 50 #int(math.floor(splitper * ds.shape[0] + 1))\n",
    "\n",
    "    #Shuffle the list\n",
    "    #Shuffle is stopped so we can get stable measurements\n",
    "    #ds = ds.iloc[np.random.permutation(len(ds))]\n",
    "    \n",
    "    #Get tarin,test\n",
    "    ls = [i for i in range(10,18)]\n",
    "    ls+=[0,2]\n",
    "    x_train = ds.iloc[splitper:][np.delete(ds.columns, ls)]\n",
    "    y_train = ds.iloc[splitper:][ds.columns[10:18]]\n",
    "    x_test = ds.iloc[:splitper][np.delete(ds.columns, ls)]\n",
    "    y_test = ds.iloc[:splitper][ds.columns[10:18]]\n",
    "    return (x_train.as_matrix(),y_train.as_matrix()),(x_test.as_matrix(),y_test.as_matrix()) "
   ]
  },
  {
   "cell_type": "code",
   "execution_count": 3,
   "metadata": {
    "collapsed": false
   },
   "outputs": [
    {
     "data": {
      "text/html": [
       "<div>\n",
       "<table border=\"1\" class=\"dataframe\">\n",
       "  <thead>\n",
       "    <tr style=\"text-align: right;\">\n",
       "      <th></th>\n",
       "      <th>GeneID</th>\n",
       "      <th>absolute expression, parental strain t=0 (arbitrary units)</th>\n",
       "      <th>wt t=0</th>\n",
       "      <th>wt t=10</th>\n",
       "      <th>wt t=20</th>\n",
       "      <th>wt t=30</th>\n",
       "      <th>wt t=45</th>\n",
       "      <th>wt t=60</th>\n",
       "      <th>wt t=90</th>\n",
       "      <th>wt t=120</th>\n",
       "      <th>...</th>\n",
       "      <th>tfB-del t=90</th>\n",
       "      <th>tfB-del t=120</th>\n",
       "      <th>tfC-del t=0</th>\n",
       "      <th>tfC-del t=10</th>\n",
       "      <th>tfC-del t=20</th>\n",
       "      <th>tfC-del t=30</th>\n",
       "      <th>tfC-del t=45</th>\n",
       "      <th>tfC-del t=60</th>\n",
       "      <th>tfC-del t=90</th>\n",
       "      <th>tfC-del t=120</th>\n",
       "    </tr>\n",
       "  </thead>\n",
       "  <tbody>\n",
       "    <tr>\n",
       "      <th>0</th>\n",
       "      <td>45</td>\n",
       "      <td>0.194</td>\n",
       "      <td>0.0</td>\n",
       "      <td>0.080</td>\n",
       "      <td>-0.021</td>\n",
       "      <td>-0.208</td>\n",
       "      <td>0.071</td>\n",
       "      <td>-0.066</td>\n",
       "      <td>-0.064</td>\n",
       "      <td>-0.062</td>\n",
       "      <td>...</td>\n",
       "      <td>0.082</td>\n",
       "      <td>-0.080</td>\n",
       "      <td>-0.185</td>\n",
       "      <td>-0.205</td>\n",
       "      <td>-0.072</td>\n",
       "      <td>-0.061</td>\n",
       "      <td>0.000</td>\n",
       "      <td>0.042</td>\n",
       "      <td>-0.147</td>\n",
       "      <td>-0.246</td>\n",
       "    </tr>\n",
       "    <tr>\n",
       "      <th>1</th>\n",
       "      <td>7767</td>\n",
       "      <td>1.480</td>\n",
       "      <td>0.0</td>\n",
       "      <td>-0.467</td>\n",
       "      <td>-0.376</td>\n",
       "      <td>-0.619</td>\n",
       "      <td>-0.199</td>\n",
       "      <td>-0.107</td>\n",
       "      <td>-0.143</td>\n",
       "      <td>-0.210</td>\n",
       "      <td>...</td>\n",
       "      <td>0.302</td>\n",
       "      <td>-0.148</td>\n",
       "      <td>-0.149</td>\n",
       "      <td>-0.383</td>\n",
       "      <td>0.183</td>\n",
       "      <td>-0.007</td>\n",
       "      <td>0.020</td>\n",
       "      <td>-0.052</td>\n",
       "      <td>0.074</td>\n",
       "      <td>0.188</td>\n",
       "    </tr>\n",
       "    <tr>\n",
       "      <th>2</th>\n",
       "      <td>3443</td>\n",
       "      <td>13.960</td>\n",
       "      <td>0.0</td>\n",
       "      <td>-0.313</td>\n",
       "      <td>-0.147</td>\n",
       "      <td>-0.641</td>\n",
       "      <td>-0.098</td>\n",
       "      <td>-0.200</td>\n",
       "      <td>-0.305</td>\n",
       "      <td>-0.083</td>\n",
       "      <td>...</td>\n",
       "      <td>-0.478</td>\n",
       "      <td>-0.611</td>\n",
       "      <td>-0.385</td>\n",
       "      <td>-0.591</td>\n",
       "      <td>-0.320</td>\n",
       "      <td>-0.110</td>\n",
       "      <td>-0.469</td>\n",
       "      <td>-0.443</td>\n",
       "      <td>-0.285</td>\n",
       "      <td>-0.356</td>\n",
       "    </tr>\n",
       "    <tr>\n",
       "      <th>3</th>\n",
       "      <td>5965</td>\n",
       "      <td>132.600</td>\n",
       "      <td>0.0</td>\n",
       "      <td>-0.183</td>\n",
       "      <td>-0.106</td>\n",
       "      <td>-0.448</td>\n",
       "      <td>-0.119</td>\n",
       "      <td>-0.167</td>\n",
       "      <td>-0.245</td>\n",
       "      <td>-0.194</td>\n",
       "      <td>...</td>\n",
       "      <td>-0.302</td>\n",
       "      <td>-0.473</td>\n",
       "      <td>-0.285</td>\n",
       "      <td>-0.493</td>\n",
       "      <td>-0.358</td>\n",
       "      <td>-0.405</td>\n",
       "      <td>-0.500</td>\n",
       "      <td>-0.344</td>\n",
       "      <td>-0.263</td>\n",
       "      <td>-0.376</td>\n",
       "    </tr>\n",
       "    <tr>\n",
       "      <th>4</th>\n",
       "      <td>1341</td>\n",
       "      <td>0.148</td>\n",
       "      <td>0.0</td>\n",
       "      <td>0.165</td>\n",
       "      <td>0.183</td>\n",
       "      <td>0.186</td>\n",
       "      <td>0.103</td>\n",
       "      <td>0.130</td>\n",
       "      <td>0.108</td>\n",
       "      <td>0.186</td>\n",
       "      <td>...</td>\n",
       "      <td>0.112</td>\n",
       "      <td>0.349</td>\n",
       "      <td>0.037</td>\n",
       "      <td>0.013</td>\n",
       "      <td>-0.006</td>\n",
       "      <td>0.057</td>\n",
       "      <td>0.053</td>\n",
       "      <td>0.163</td>\n",
       "      <td>-0.024</td>\n",
       "      <td>-0.065</td>\n",
       "    </tr>\n",
       "  </tbody>\n",
       "</table>\n",
       "<p>5 rows × 34 columns</p>\n",
       "</div>"
      ],
      "text/plain": [
       "   GeneID  absolute expression, parental strain t=0 (arbitrary units)  wt t=0  \\\n",
       "0      45                                              0.194              0.0   \n",
       "1    7767                                              1.480              0.0   \n",
       "2    3443                                             13.960              0.0   \n",
       "3    5965                                            132.600              0.0   \n",
       "4    1341                                              0.148              0.0   \n",
       "\n",
       "   wt t=10  wt t=20  wt t=30  wt t=45  wt t=60  wt t=90  wt t=120  \\\n",
       "0    0.080   -0.021   -0.208    0.071   -0.066   -0.064    -0.062   \n",
       "1   -0.467   -0.376   -0.619   -0.199   -0.107   -0.143    -0.210   \n",
       "2   -0.313   -0.147   -0.641   -0.098   -0.200   -0.305    -0.083   \n",
       "3   -0.183   -0.106   -0.448   -0.119   -0.167   -0.245    -0.194   \n",
       "4    0.165    0.183    0.186    0.103    0.130    0.108     0.186   \n",
       "\n",
       "       ...        tfB-del t=90  tfB-del t=120  tfC-del t=0  tfC-del t=10  \\\n",
       "0      ...               0.082         -0.080       -0.185        -0.205   \n",
       "1      ...               0.302         -0.148       -0.149        -0.383   \n",
       "2      ...              -0.478         -0.611       -0.385        -0.591   \n",
       "3      ...              -0.302         -0.473       -0.285        -0.493   \n",
       "4      ...               0.112          0.349        0.037         0.013   \n",
       "\n",
       "   tfC-del t=20  tfC-del t=30  tfC-del t=45  tfC-del t=60  tfC-del t=90  \\\n",
       "0        -0.072        -0.061         0.000         0.042        -0.147   \n",
       "1         0.183        -0.007         0.020        -0.052         0.074   \n",
       "2        -0.320        -0.110        -0.469        -0.443        -0.285   \n",
       "3        -0.358        -0.405        -0.500        -0.344        -0.263   \n",
       "4        -0.006         0.057         0.053         0.163        -0.024   \n",
       "\n",
       "   tfC-del t=120  \n",
       "0         -0.246  \n",
       "1          0.188  \n",
       "2         -0.356  \n",
       "3         -0.376  \n",
       "4         -0.065  \n",
       "\n",
       "[5 rows x 34 columns]"
      ]
     },
     "execution_count": 3,
     "metadata": {},
     "output_type": "execute_result"
    }
   ],
   "source": [
    "train.head()"
   ]
  },
  {
   "cell_type": "code",
   "execution_count": 4,
   "metadata": {
    "collapsed": false
   },
   "outputs": [
    {
     "name": "stdout",
     "output_type": "stream",
     "text": [
      "Loading data...\n",
      "train: (9235, 24) (9235, 8)\n",
      "test:  (50, 24) (50, 8)\n"
     ]
    }
   ],
   "source": [
    "print('Loading data...')\n",
    "\n",
    "#(X_train, y_train), (X_test, y_test) =GetData()\n",
    "(x_train,y_train),(x_test,y_test) = GetData(train)\n",
    "print('train:',x_train.shape,y_train.shape)\n",
    "print('test: ',x_test.shape,y_test.shape)"
   ]
  },
  {
   "cell_type": "markdown",
   "metadata": {},
   "source": [
    "# Calculate Rank for Test set for all Models"
   ]
  },
  {
   "cell_type": "code",
   "execution_count": 5,
   "metadata": {
    "collapsed": false
   },
   "outputs": [
    {
     "name": "stdout",
     "output_type": "stream",
     "text": [
      "Perfect Score: 33.16822\n",
      "Current Score: 17.07207\n",
      "Current Score: 15.61657 Model_LSTM_00-0.08.h5\n",
      "Current Score: 17.62523 Model_LSTM2_20-0.06.h5\n",
      "Current Score: 18.80958 Model_LSTM_10-0.06.h5\n",
      "Current Score: 15.65636 Model_LSTM_01-0.07.h5\n",
      "Current Score: 17.17989 Model_LSTM2_05-0.07.h5\n",
      "Current Score: 17.22231 Model_LSTM2_15-0.06.h5\n",
      "Current Score: 17.63629 Model_LSTM2_08-0.07.h5\n",
      "Current Score: 17.53142 Model_LSTM2_11-0.06.h5\n",
      "Current Score: 17.22288 Model_LSTM2_43-0.06.h5\n",
      "Current Score: 17.08654 Model_LSTM_02-0.07.h5\n",
      "Current Score: [1] NA\n",
      " Model_LSTM2_00-0.08.h5\n",
      "Current Score: 17.35461 Model_LSTM2_23-0.06.h5\n",
      "Current Score: 18.42599 Model_LSTM_05-0.06.h5\n",
      "Current Score: 16.95856 Model_LSTM2_32-0.06.h5\n",
      "Current Score: 18.67488 Model_LSTM_04-0.06.h5\n",
      "Current Score: 18.96678 Model_LSTM_07-0.06.h5\n",
      "Current Score: 17.33301 Model_LSTM_03-0.07.h5\n",
      "Current Score: 16.49656 Model_LSTM_09-0.06.h5\n",
      "Current Score: 15.47477 Model_LSTM2_01-0.07.h5\n",
      "Current Score: 15.84147 Model_LSTM2_02-0.07.h5\n"
     ]
    }
   ],
   "source": [
    "files=[]\n",
    "for file in os.listdir(\"output_files/\"):\n",
    "    if file.endswith(\".h5\"):\n",
    "        files.append(file)\n",
    "files.remove('Model_NN:2_67-0.12.h5')\n",
    "org = RANK(y_test)\n",
    "print('Perfect Score:',Calculate_Score(org,org))\n",
    "model = load_model('output_files/Model_NN:2_67-0.12.h5')\n",
    "pred = model.predict(x_test)\n",
    "pred = RANK(pred)\n",
    "print('Current Score:',Calculate_Score(pred,org))\n",
    "\n",
    "##Only in case of LSTM\n",
    "x_train = np.reshape(x_train,(x_train.shape[0],1,x_train.shape[1]))\n",
    "x_test = np.reshape(x_test,(x_test.shape[0],1,x_test.shape[1]))\n",
    "for i in range(1,len(files)):\n",
    "    model = load_model('output_files/{}'.format(files[i]))\n",
    "    pred = model.predict(x_test)\n",
    "    pred = RANK(pred)\n",
    "    print('Current Score:',Calculate_Score(pred,org),files[i])"
   ]
  },
  {
   "cell_type": "markdown",
   "metadata": {},
   "source": [
    "# Test The Model Manually (selecting the set manually)"
   ]
  },
  {
   "cell_type": "code",
   "execution_count": 6,
   "metadata": {
    "collapsed": true
   },
   "outputs": [],
   "source": [
    "#x_train = np.reshape(x_train,(x_train.shape[0],1,x_train.shape[1]))\n",
    "#x_test = np.reshape(x_test,(x_test.shape[0],1,x_test.shape[1]))"
   ]
  },
  {
   "cell_type": "code",
   "execution_count": 7,
   "metadata": {
    "collapsed": false,
    "scrolled": true
   },
   "outputs": [
    {
     "name": "stdout",
     "output_type": "stream",
     "text": [
      "Perfect Score: 33.16822\n",
      "Current Score: 18.96678\n"
     ]
    }
   ],
   "source": [
    "org = RANK(y_test)\n",
    "print('Perfect Score:',Calculate_Score(org,org))\n",
    "model = load_model('output_files/Model_LSTM_07-0.06.h5')\n",
    "x_tst = x_train[150:200]\n",
    "y_tst = y_train[150:200]\n",
    "pred = model.predict(x_test)\n",
    "pred = RANK(pred)\n",
    "print('Current Score:',Calculate_Score(pred,org))"
   ]
  },
  {
   "cell_type": "markdown",
   "metadata": {},
   "source": [
    "# Test Model Automatically on All the data"
   ]
  },
  {
   "cell_type": "code",
   "execution_count": 6,
   "metadata": {
    "collapsed": false,
    "scrolled": true
   },
   "outputs": [
    {
     "name": "stdout",
     "output_type": "stream",
     "text": [
      "loading model\n",
      "Finished loading\n",
      "Finished\n"
     ]
    }
   ],
   "source": [
    "#x_train = np.reshape(x_train,(x_train.shape[0],1,x_train.shape[1]))\n",
    "#x_test = np.reshape(x_test,(x_test.shape[0],1,x_test.shape[1]))\n",
    "print('loading model')\n",
    "model = load_model('output_files/Model_LSTM_07-0.06.h5')\n",
    "print('Finished loading')\n",
    "\n",
    "lst = np.zeros((184,2))\n",
    "problems = []\n",
    "for i in range(0,184):\n",
    "    x_tst = x_train[i*50:i*50+50]\n",
    "    y_tst = y_train[i*50:i*50+50]\n",
    "    org = RANK(y_tst)\n",
    "    \n",
    "    pred = model.predict(x_tst)\n",
    "    pred = RANK(pred)\n",
    "    predscore = Calculate_Score(pred,org)\n",
    "    orgscore = Calculate_Score(org,org)\n",
    "    if isinstance(predscore,str) or isinstance(orgscore,str):\n",
    "        problems.append('check{}, Score:{},{} '.format(i,str(predscore).strip(),str(orgscore).strip()))\n",
    "    else:\n",
    "        lst[i,:] = predscore,orgscore\n",
    "        #print(predscore,' of: ',orgscore)\n",
    "#Filter the list for working only\n",
    "lst = lst[lst[:,0]!=0]\n",
    "print('Finished')"
   ]
  },
  {
   "cell_type": "code",
   "execution_count": 22,
   "metadata": {
    "collapsed": false
   },
   "outputs": [
    {
     "name": "stdout",
     "output_type": "stream",
     "text": [
      "32\n",
      "check0, Score:[1] NA,33.69295 \n",
      "check6, Score:[1] NA,[1] NA \n",
      "check21, Score:[1] NA,[1] NA \n",
      "check23, Score:[1] NA,33.69295 \n",
      "check24, Score:[1] NA,31.85638 \n",
      "check28, Score:[1] NA,[1] NA \n",
      "check30, Score:[1] NA,30.80691 \n",
      "check47, Score:[1] NA,[1] NA \n",
      "check51, Score:[1] NA,32.90585 \n",
      "check61, Score:[1] NA,33.95532 \n",
      "check63, Score:[1] NA,[1] NA \n",
      "check65, Score:[1] NA,[1] NA \n",
      "check75, Score:[1] NA,33.95532 \n",
      "check81, Score:[1] NA,[1] NA \n",
      "check89, Score:[1] NA,32.38111 \n",
      "check90, Score:[1] NA,32.38111 \n",
      "check92, Score:[1] NA,[1] NA \n",
      "check110, Score:[1] NA,32.64348 \n",
      "check131, Score:[1] NA,32.11874 \n",
      "check136, Score:[1] NA,[1] NA \n",
      "check139, Score:[1] NA,[1] NA \n",
      "check140, Score:[1] NA,[1] NA \n",
      "check148, Score:[1] NA,[1] NA \n",
      "check149, Score:[1] NA,[1] NA \n",
      "check152, Score:[1] NA,31.06927 \n",
      "check158, Score:[1] NA,[1] NA \n",
      "check163, Score:[1] NA,[1] NA \n",
      "check164, Score:[1] NA,[1] NA \n",
      "check168, Score:[1] NA,[1] NA \n",
      "check173, Score:[1] NA,32.38111 \n",
      "check178, Score:[1] NA,[1] NA \n",
      "check183, Score:[1] NA,[1] NA \n"
     ]
    }
   ],
   "source": [
    "print(len(problems))\n",
    "print('\\n'.join(problems))"
   ]
  },
  {
   "cell_type": "code",
   "execution_count": 36,
   "metadata": {
    "collapsed": false
   },
   "outputs": [
    {
     "name": "stdout",
     "output_type": "stream",
     "text": [
      "Mean   Predicted:15.724260355263155, Perfect:32.42944315789473\n",
      "Median Predicted:16.757225, Perfect:32.512294999999995\n",
      "Min    Predicted:3.779866,  Perfect:30.0198\n",
      "Max    Predicted:20.74244, Perfect:34.48005\n"
     ]
    }
   ],
   "source": [
    "print('Mean   Predicted:{}, Perfect:{}'.format(np.mean(lst[:,0]),np.mean(lst[:,1])))\n",
    "print('Median Predicted:{}, Perfect:{}'.format(np.median(lst[:,0]),np.median(lst[:,1])))\n",
    "print('Min    Predicted:{},  Perfect:{}'.format(np.min(lst[:,0]),np.min(lst[:,1])))\n",
    "print('Max    Predicted:{}, Perfect:{}'.format(np.max(lst[:,0]),np.max(lst[:,1])))"
   ]
  },
  {
   "cell_type": "code",
   "execution_count": 41,
   "metadata": {
    "collapsed": false
   },
   "outputs": [
    {
     "name": "stdout",
     "output_type": "stream",
     "text": [
      "[[  3.779866  30.54454 ]]\n",
      "[[ 20.74244  32.64348]]\n"
     ]
    }
   ],
   "source": [
    "minn= np.where(lst[:,0]==np.min(lst[:,0]))\n",
    "maxx= np.where(lst[:,0]==np.max(lst[:,0]))\n",
    "mediann= np.where(lst[:,0]==np.median(lst[:,0]))\n",
    "meann= np.where(lst[:,0]==np.mean(lst[:,0]))\n",
    "print(lst[minn])\n",
    "print(lst[maxx])"
   ]
  }
 ],
 "metadata": {
  "kernelspec": {
   "display_name": "Python 3",
   "language": "python",
   "name": "python3"
  },
  "language_info": {
   "codemirror_mode": {
    "name": "ipython",
    "version": 3
   },
   "file_extension": ".py",
   "mimetype": "text/x-python",
   "name": "python",
   "nbconvert_exporter": "python",
   "pygments_lexer": "ipython3",
   "version": "3.5.2"
  },
  "widgets": {
   "state": {},
   "version": "1.1.2"
  }
 },
 "nbformat": 4,
 "nbformat_minor": 0
}
