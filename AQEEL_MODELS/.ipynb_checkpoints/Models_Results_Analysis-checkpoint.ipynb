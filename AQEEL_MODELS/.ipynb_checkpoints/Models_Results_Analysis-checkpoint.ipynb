{
 "cells": [
  {
   "cell_type": "code",
   "execution_count": 21,
   "metadata": {
    "collapsed": false
   },
   "outputs": [],
   "source": [
    "__author__ = 'aqeel'\n",
    "'''Train and evaluate a simple MLP on the Souq.com Reviews newswire topic classification task.\n",
    "GPU run command:\n",
    "    THEANO_FLAGS=mode=FAST_RUN,device=gpu,floatX=float32 python examples/NNClassifiyReviews.py\n",
    "CPU run command:\n",
    "    python examples/NNClassifiyReviews.py\n",
    "'''\n",
    "import numpy as np\n",
    "from keras.models import Sequential, load_model\n",
    "from keras.layers.core import Dense, Dropout, Activation\n",
    "from keras.utils import np_utils\n",
    "import keras.callbacks\n",
    "import random\n",
    "import math\n",
    "import pandas as pd\n",
    "import re\n",
    "\n",
    "#For the baseline\n",
    "from keras.wrappers.scikit_learn import KerasRegressor\n",
    "from sklearn.model_selection import cross_val_score\n",
    "from sklearn.model_selection import KFold\n",
    "from sklearn.preprocessing import StandardScaler\n",
    "from sklearn.pipeline import Pipeline\n",
    "import matplotlib.pyplot as plt\n",
    "from ALutils import Calculate_Score,RANK\n",
    "%matplotlib inline"
   ]
  },
  {
   "cell_type": "markdown",
   "metadata": {},
   "source": [
    "### Prepare the data"
   ]
  },
  {
   "cell_type": "code",
   "execution_count": 22,
   "metadata": {
    "collapsed": false,
    "scrolled": true
   },
   "outputs": [
    {
     "data": {
      "text/html": [
       "<div>\n",
       "<table border=\"1\" class=\"dataframe\">\n",
       "  <thead>\n",
       "    <tr style=\"text-align: right;\">\n",
       "      <th></th>\n",
       "      <th>GeneID</th>\n",
       "      <th>absolute expression, parental strain t=0 (arbitrary units)</th>\n",
       "      <th>wt t=0</th>\n",
       "      <th>wt t=10</th>\n",
       "      <th>wt t=20</th>\n",
       "      <th>wt t=30</th>\n",
       "      <th>wt t=45</th>\n",
       "      <th>wt t=60</th>\n",
       "      <th>wt t=90</th>\n",
       "      <th>wt t=120</th>\n",
       "      <th>...</th>\n",
       "      <th>tfB-del t=90</th>\n",
       "      <th>tfB-del t=120</th>\n",
       "      <th>tfC-del t=0</th>\n",
       "      <th>tfC-del t=10</th>\n",
       "      <th>tfC-del t=20</th>\n",
       "      <th>tfC-del t=30</th>\n",
       "      <th>tfC-del t=45</th>\n",
       "      <th>tfC-del t=60</th>\n",
       "      <th>tfC-del t=90</th>\n",
       "      <th>tfC-del t=120</th>\n",
       "    </tr>\n",
       "  </thead>\n",
       "  <tbody>\n",
       "    <tr>\n",
       "      <th>0</th>\n",
       "      <td>45</td>\n",
       "      <td>0.194</td>\n",
       "      <td>0.0</td>\n",
       "      <td>0.080</td>\n",
       "      <td>-0.021</td>\n",
       "      <td>-0.208</td>\n",
       "      <td>0.071</td>\n",
       "      <td>-0.066</td>\n",
       "      <td>-0.064</td>\n",
       "      <td>-0.062</td>\n",
       "      <td>...</td>\n",
       "      <td>0.082</td>\n",
       "      <td>-0.080</td>\n",
       "      <td>-0.185</td>\n",
       "      <td>-0.205</td>\n",
       "      <td>-0.072</td>\n",
       "      <td>-0.061</td>\n",
       "      <td>0.000</td>\n",
       "      <td>0.042</td>\n",
       "      <td>-0.147</td>\n",
       "      <td>-0.246</td>\n",
       "    </tr>\n",
       "    <tr>\n",
       "      <th>1</th>\n",
       "      <td>7767</td>\n",
       "      <td>1.480</td>\n",
       "      <td>0.0</td>\n",
       "      <td>-0.467</td>\n",
       "      <td>-0.376</td>\n",
       "      <td>-0.619</td>\n",
       "      <td>-0.199</td>\n",
       "      <td>-0.107</td>\n",
       "      <td>-0.143</td>\n",
       "      <td>-0.210</td>\n",
       "      <td>...</td>\n",
       "      <td>0.302</td>\n",
       "      <td>-0.148</td>\n",
       "      <td>-0.149</td>\n",
       "      <td>-0.383</td>\n",
       "      <td>0.183</td>\n",
       "      <td>-0.007</td>\n",
       "      <td>0.020</td>\n",
       "      <td>-0.052</td>\n",
       "      <td>0.074</td>\n",
       "      <td>0.188</td>\n",
       "    </tr>\n",
       "    <tr>\n",
       "      <th>2</th>\n",
       "      <td>3443</td>\n",
       "      <td>13.960</td>\n",
       "      <td>0.0</td>\n",
       "      <td>-0.313</td>\n",
       "      <td>-0.147</td>\n",
       "      <td>-0.641</td>\n",
       "      <td>-0.098</td>\n",
       "      <td>-0.200</td>\n",
       "      <td>-0.305</td>\n",
       "      <td>-0.083</td>\n",
       "      <td>...</td>\n",
       "      <td>-0.478</td>\n",
       "      <td>-0.611</td>\n",
       "      <td>-0.385</td>\n",
       "      <td>-0.591</td>\n",
       "      <td>-0.320</td>\n",
       "      <td>-0.110</td>\n",
       "      <td>-0.469</td>\n",
       "      <td>-0.443</td>\n",
       "      <td>-0.285</td>\n",
       "      <td>-0.356</td>\n",
       "    </tr>\n",
       "    <tr>\n",
       "      <th>3</th>\n",
       "      <td>5965</td>\n",
       "      <td>132.600</td>\n",
       "      <td>0.0</td>\n",
       "      <td>-0.183</td>\n",
       "      <td>-0.106</td>\n",
       "      <td>-0.448</td>\n",
       "      <td>-0.119</td>\n",
       "      <td>-0.167</td>\n",
       "      <td>-0.245</td>\n",
       "      <td>-0.194</td>\n",
       "      <td>...</td>\n",
       "      <td>-0.302</td>\n",
       "      <td>-0.473</td>\n",
       "      <td>-0.285</td>\n",
       "      <td>-0.493</td>\n",
       "      <td>-0.358</td>\n",
       "      <td>-0.405</td>\n",
       "      <td>-0.500</td>\n",
       "      <td>-0.344</td>\n",
       "      <td>-0.263</td>\n",
       "      <td>-0.376</td>\n",
       "    </tr>\n",
       "    <tr>\n",
       "      <th>4</th>\n",
       "      <td>1341</td>\n",
       "      <td>0.148</td>\n",
       "      <td>0.0</td>\n",
       "      <td>0.165</td>\n",
       "      <td>0.183</td>\n",
       "      <td>0.186</td>\n",
       "      <td>0.103</td>\n",
       "      <td>0.130</td>\n",
       "      <td>0.108</td>\n",
       "      <td>0.186</td>\n",
       "      <td>...</td>\n",
       "      <td>0.112</td>\n",
       "      <td>0.349</td>\n",
       "      <td>0.037</td>\n",
       "      <td>0.013</td>\n",
       "      <td>-0.006</td>\n",
       "      <td>0.057</td>\n",
       "      <td>0.053</td>\n",
       "      <td>0.163</td>\n",
       "      <td>-0.024</td>\n",
       "      <td>-0.065</td>\n",
       "    </tr>\n",
       "  </tbody>\n",
       "</table>\n",
       "<p>5 rows × 34 columns</p>\n",
       "</div>"
      ],
      "text/plain": [
       "   GeneID  absolute expression, parental strain t=0 (arbitrary units)  wt t=0  \\\n",
       "0      45                                              0.194              0.0   \n",
       "1    7767                                              1.480              0.0   \n",
       "2    3443                                             13.960              0.0   \n",
       "3    5965                                            132.600              0.0   \n",
       "4    1341                                              0.148              0.0   \n",
       "\n",
       "   wt t=10  wt t=20  wt t=30  wt t=45  wt t=60  wt t=90  wt t=120  \\\n",
       "0    0.080   -0.021   -0.208    0.071   -0.066   -0.064    -0.062   \n",
       "1   -0.467   -0.376   -0.619   -0.199   -0.107   -0.143    -0.210   \n",
       "2   -0.313   -0.147   -0.641   -0.098   -0.200   -0.305    -0.083   \n",
       "3   -0.183   -0.106   -0.448   -0.119   -0.167   -0.245    -0.194   \n",
       "4    0.165    0.183    0.186    0.103    0.130    0.108     0.186   \n",
       "\n",
       "       ...        tfB-del t=90  tfB-del t=120  tfC-del t=0  tfC-del t=10  \\\n",
       "0      ...               0.082         -0.080       -0.185        -0.205   \n",
       "1      ...               0.302         -0.148       -0.149        -0.383   \n",
       "2      ...              -0.478         -0.611       -0.385        -0.591   \n",
       "3      ...              -0.302         -0.473       -0.285        -0.493   \n",
       "4      ...               0.112          0.349        0.037         0.013   \n",
       "\n",
       "   tfC-del t=20  tfC-del t=30  tfC-del t=45  tfC-del t=60  tfC-del t=90  \\\n",
       "0        -0.072        -0.061         0.000         0.042        -0.147   \n",
       "1         0.183        -0.007         0.020        -0.052         0.074   \n",
       "2        -0.320        -0.110        -0.469        -0.443        -0.285   \n",
       "3        -0.358        -0.405        -0.500        -0.344        -0.263   \n",
       "4        -0.006         0.057         0.053         0.163        -0.024   \n",
       "\n",
       "   tfC-del t=120  \n",
       "0         -0.246  \n",
       "1          0.188  \n",
       "2         -0.356  \n",
       "3         -0.376  \n",
       "4         -0.065  \n",
       "\n",
       "[5 rows x 34 columns]"
      ]
     },
     "execution_count": 22,
     "metadata": {},
     "output_type": "execute_result"
    }
   ],
   "source": [
    "train = pd.read_csv('../Data/train.csv')\n",
    "ftest = pd.read_csv('../Data/test.csv')\n",
    "#ftest[ftest.columns[[0]+[i for i in range(10,18)]]]\n",
    "train.head()"
   ]
  },
  {
   "cell_type": "code",
   "execution_count": 6,
   "metadata": {
    "collapsed": false
   },
   "outputs": [],
   "source": [
    "def GetData(ds):\n",
    "    np.random.seed(1337)\n",
    "    #Convert The Percentage to split point\n",
    "    splitper = 50\n",
    "\n",
    "    #Shuffle the list\n",
    "    #Shuffle is stopped so we can get stable measurements\n",
    "    #ds = ds.iloc[np.random.permutation(len(ds))]\n",
    "    \n",
    "    #Get tarin,test\n",
    "    ls = range(10,18)\n",
    "    ls+=[0,2]\n",
    "    x_train = ds.iloc[splitper:][np.delete(ds.columns, ls)]\n",
    "    y_train = ds.iloc[splitper:][ds.columns[10:18]]\n",
    "    x_test = ds.iloc[:splitper][np.delete(ds.columns, ls)]\n",
    "    y_test = ds.iloc[:splitper][ds.columns[10:18]]\n",
    "    return (x_train.as_matrix(),y_train.as_matrix()),(x_test.as_matrix(),y_test.as_matrix())"
   ]
  },
  {
   "cell_type": "code",
   "execution_count": 7,
   "metadata": {
    "collapsed": true
   },
   "outputs": [],
   "source": [
    "def baseline_model(indim,outdim):\n",
    "    # create model\n",
    "    model = Sequential()\n",
    "    model.add(Dense(13, input_dim=indim, init='normal', activation='relu'))\n",
    "    model.add(Dense(outdim, init='normal'))\n",
    "    # Compile model\n",
    "    model.compile(loss='mean_squared_error', optimizer='adam')\n",
    "    return model"
   ]
  },
  {
   "cell_type": "code",
   "execution_count": 8,
   "metadata": {
    "collapsed": false
   },
   "outputs": [
    {
     "name": "stdout",
     "output_type": "stream",
     "text": [
      "Loading data...\n",
      "(7427, 24) (7427, 8)\n",
      "(1858, 24) (1858, 8)\n",
      "24\n"
     ]
    }
   ],
   "source": [
    "#1-inf\n",
    "batch_size = 1\n",
    "#1-inf\n",
    "nb_epoch = 10\n",
    "#Done\n",
    "#SGD, RMSprop, Adagrad, Adadelta, Adam, Adamax\n",
    "theoptimizer = 'adam'\n",
    "#DONE\n",
    "#1-inf\n",
    "layernodes = 128\n",
    "#DONE\n",
    "#0.1-0.9\n",
    "thedropout =0.5\n",
    "#DONE\n",
    "#softmax,softplus,relu,tanh,sigmoid,hard_sigmoid,linear,\n",
    "FirstActivation = 'relu'\n",
    "SecondActivation='sigmoid'\n",
    "#DONE\n",
    "#mean_squared_error / mse,root_mean_squared_error / rmse,mean_absolute_error / mae,mean_absolute_percentage_error / mape\n",
    "#mean_squared_logarithmic_error / msle,squared_hinge, hinge,binary_crossentropy: Also known as logloss,categorical_crossentropy: Also known as multiclass logloss. Note: using this objective requires that your labels are binary arrays of shape (nb_samples, nb_classes).\n",
    "#poisson: mean of (predictions - targets * log(predictions))# cosine_proximity: the opposite (negative) of the mean cosine proximity between predictions and targets.\n",
    "theloss='mean_absolute_error'\n",
    "#======================\n",
    "print('Loading data...')\n",
    "\n",
    "#(X_train, y_train), (X_test, y_test) =GetData()\n",
    "(x_train,y_train),(x_test,y_test) = GetData(train)\n",
    "\n",
    "print x_train.shape,y_train.shape\n",
    "print x_test.shape,y_test.shape\n",
    "print x_train.shape[1]"
   ]
  },
  {
   "cell_type": "code",
   "execution_count": null,
   "metadata": {
    "collapsed": false
   },
   "outputs": [],
   "source": [
    "print('Building model...')\n",
    "model = Sequential()\n",
    "model.add(Dense(layernodes,init='normal', input_dim=x_train.shape[1]))\n",
    "model.add(Activation(FirstActivation))\n",
    "model.add(Dropout(thedropout))\n",
    "model.add(Dense(y_train.shape[1],init='normal'))\n",
    "model.add(Activation(SecondActivation))\n",
    "keras.callbacks.ModelCheckpoint('Models/output', monitor='val_loss', verbose=0, save_best_only=False, save_weights_only=False, mode='auto')\n",
    "model.compile(loss=theloss, optimizer=theoptimizer,metrics=[\"mean_absolute_error\"])\n",
    "\n",
    "#checkpointer = ModelCheckpoint(filepath=\"weights.hdf5\", verbose=1, save_best_only=True,monitor='val_acc',mode='max')\n",
    "#losshistory= LossHistory()\n",
    "history = model.fit(x_train, y_train, nb_epoch=nb_epoch, batch_size=batch_size, verbose=1, validation_split=0.1)\n",
    "score = model.evaluate(x_test, y_test, batch_size=batch_size, verbose=1)\n",
    "#results.write(','+str(score[1])+','+str(max(history.history.get('acc'))))\n",
    "print('Test score:', score[0])\n",
    "print('Test accuracy:', score[1])\n"
   ]
  },
  {
   "cell_type": "code",
   "execution_count": null,
   "metadata": {
    "collapsed": false
   },
   "outputs": [],
   "source": [
    "print x_train[0],y_train[0]"
   ]
  },
  {
   "cell_type": "code",
   "execution_count": 3,
   "metadata": {
    "collapsed": false
   },
   "outputs": [],
   "source": [
    "model = load_model('output_files/models/model_71-0.13.h5')"
   ]
  },
  {
   "cell_type": "code",
   "execution_count": 26,
   "metadata": {
    "collapsed": false
   },
   "outputs": [
    {
     "name": "stdout",
     "output_type": "stream",
     "text": [
      "(1858, 24)\n",
      "y [-0.244  0.271  0.338 ..., -0.037  0.072  0.034]\n",
      "all [[-0.244 -0.324 -0.1   ..., -0.246 -0.241 -0.479]\n",
      " [ 0.271  0.421  0.346 ...,  0.039  0.344  0.199]\n",
      " [ 0.338  0.16  -0.1   ..., -0.409 -0.084  0.079]\n",
      " ..., \n",
      " [-0.037 -0.21  -0.82  ..., -0.111 -0.323 -0.338]\n",
      " [ 0.072 -0.231  0.042 ...,  0.128 -0.195 -0.044]\n",
      " [ 0.034 -0.107  0.032 ..., -0.024  0.023 -0.096]]\n"
     ]
    }
   ],
   "source": [
    "\n",
    "y_test[:,0]"
   ]
  },
  {
   "cell_type": "code",
   "execution_count": 31,
   "metadata": {
    "collapsed": false
   },
   "outputs": [],
   "source": [
    "x = model.predict(x_test)\n",
    "rmse = ((y_test[:,0] - x) ** 2).mean()"
   ]
  },
  {
   "cell_type": "code",
   "execution_count": 34,
   "metadata": {
    "collapsed": false
   },
   "outputs": [
    {
     "data": {
      "text/plain": [
       "[<matplotlib.lines.Line2D at 0x7fbd71363990>]"
      ]
     },
     "execution_count": 34,
     "metadata": {},
     "output_type": "execute_result"
    },
    {
     "data": {
      "image/png": "[encoded data removed]",
      "text/plain": [
       "<matplotlib.figure.Figure at 0x7fbd712ca090>"
      ]
     },
     "metadata": {},
     "output_type": "display_data"
    }
   ],
   "source": [
    "plt.figure()\n",
    "plt.plot([1],y_test[62,0],color='r')\n",
    "plt.plot([1],x[62],color='b')"
   ]
  },
  {
   "cell_type": "code",
   "execution_count": 90,
   "metadata": {
    "collapsed": false
   },
   "outputs": [
    {
     "data": {
      "text/plain": [
       "(array([129]),)"
      ]
     },
     "execution_count": 90,
     "metadata": {},
     "output_type": "execute_result"
    }
   ],
   "source": [
    "np.where(rmse==np.min(rmse))"
   ]
  },
  {
   "cell_type": "code",
   "execution_count": 91,
   "metadata": {
    "collapsed": false
   },
   "outputs": [
    {
     "data": {
      "text/plain": [
       "(0, 1900)"
      ]
     },
     "execution_count": 91,
     "metadata": {},
     "output_type": "execute_result"
    },
    {
     "data": {
      "image/png": "[encoded data removed]",
      "text/plain": [
       "<matplotlib.figure.Figure at 0x7f1424415510>"
      ]
     },
     "metadata": {},
     "output_type": "display_data"
    }
   ],
   "source": [
    "plt.figure(figsize=(13,5))\n",
    "ax = plt.subplot(1,1,1)\n",
    "ax.scatter(range(1,rmse.shape[0]+1),rmse,color='b')\n",
    "ax.set_ylim((0,1))\n",
    "ax.set_xlim((0,1900))\n"
   ]
  },
  {
   "cell_type": "markdown",
   "metadata": {
    "collapsed": false
   },
   "source": [
    "train.head()"
   ]
  },
  {
   "cell_type": "markdown",
   "metadata": {
    "collapsed": false,
    "scrolled": true
   },
   "source": [
    "check = 'what the f**k'\n",
    "print check\n",
    "check = clean_str(check)\n",
    "print check\n",
    "#tokenizer.fit_on_texts(check)\n",
    "#Sequence The Training and Testing Set\n",
    "check = tokenizer.texts_to_sequences(check)\n",
    "print check\n",
    "check = tokenizer.sequences_to_matrix(check, mode=sequencemode)\n",
    "print check\n",
    "#model.predict_classes(x_train[0:10])"
   ]
  },
  {
   "cell_type": "markdown",
   "metadata": {
    "collapsed": true
   },
   "source": [
    "model.save('Models/model_{}.h5'.format(sequencemode))"
   ]
  },
  {
   "cell_type": "markdown",
   "metadata": {
    "collapsed": false,
    "scrolled": true
   },
   "source": [
    "score = model.evaluate(x_test, y_test, batch_size=batch_size, verbose=1)"
   ]
  },
  {
   "cell_type": "markdown",
   "metadata": {
    "collapsed": false
   },
   "source": [
    "clss = model.predict_classes(x_test)"
   ]
  },
  {
   "cell_type": "markdown",
   "metadata": {
    "collapsed": false
   },
   "source": [
    "with open('Models/performance_{}.txt'.format(sequencemode),'w') as f:\n",
    "    f.write('Accuracy,PPrecision,NPrecision,Precall,Nrecall,\\n')\n",
    "    f.write('{},{},{},{},{}\\n'.format(Accuracy,PPrecision,NPrecision,Precall,Nrecall))"
   ]
  }
 ],
 "metadata": {
  "kernelspec": {
   "display_name": "Python 3",
   "language": "python",
   "name": "python3"
  },
  "language_info": {
   "codemirror_mode": {
    "name": "ipython",
    "version": 3
   },
   "file_extension": ".py",
   "mimetype": "text/x-python",
   "name": "python",
   "nbconvert_exporter": "python",
   "pygments_lexer": "ipython3",
   "version": "3.5.2"
  },
  "widgets": {
   "state": {},
   "version": "1.1.2"
  }
 },
 "nbformat": 4,
 "nbformat_minor": 0
}
