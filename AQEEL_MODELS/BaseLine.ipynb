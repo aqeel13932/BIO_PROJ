{
 "cells": [
  {
   "cell_type": "code",
   "execution_count": 26,
   "metadata": {
    "collapsed": false
   },
   "outputs": [
    {
     "name": "stderr",
     "output_type": "stream",
     "text": [
      "Using TensorFlow backend.\n"
     ]
    }
   ],
   "source": []
  },
  {
   "cell_type": "code",
   "execution_count": 25,
   "metadata": {
    "collapsed": false
   },
   "outputs": [
    {
     "name": "stdout",
     "output_type": "stream",
     "text": [
      "Index([u'GeneID',\n",
      "       u'absolute expression, parental strain t=0 (arbitrary units)',\n",
      "       u'wt t=0', u'wt t=10', u'wt t=20', u'wt t=30', u'wt t=45', u'wt t=60',\n",
      "       u'wt t=90', u'wt t=120', u'tfA-del t=0', u'tfA-del t=10',\n",
      "       u'tfA-del t=20', u'tfA-del t=30', u'tfA-del t=45', u'tfA-del t=60',\n",
      "       u'tfA-del t=90', u'tfA-del t=120', u'tfB-del t=0', u'tfB-del t=10',\n",
      "       u'tfB-del t=20', u'tfB-del t=30', u'tfB-del t=45', u'tfB-del t=60',\n",
      "       u'tfB-del t=90', u'tfB-del t=120', u'tfC-del t=0', u'tfC-del t=10',\n",
      "       u'tfC-del t=20', u'tfC-del t=30', u'tfC-del t=45', u'tfC-del t=60',\n",
      "       u'tfC-del t=90', u'tfC-del t=120'],\n",
      "      dtype='object')\n",
      "Index([u'GeneID',\n",
      "       u'absolute expression, parental strain t=0 (arbitrary units)',\n",
      "       u'wt t=0', u'wt t=10', u'wt t=20', u'wt t=30', u'wt t=45', u'wt t=60',\n",
      "       u'wt t=90', u'wt t=120', u'tfB-del t=0', u'tfB-del t=10',\n",
      "       u'tfB-del t=20', u'tfB-del t=30', u'tfB-del t=45', u'tfB-del t=60',\n",
      "       u'tfB-del t=90', u'tfB-del t=120', u'tfC-del t=0', u'tfC-del t=10',\n",
      "       u'tfC-del t=20', u'tfC-del t=30', u'tfC-del t=45', u'tfC-del t=60',\n",
      "       u'tfC-del t=90', u'tfC-del t=120'],\n",
      "      dtype='object')\n",
      "Index([u'GeneID',\n",
      "       u'absolute expression, parental strain t=0 (arbitrary units)',\n",
      "       u'wt t=0', u'wt t=10', u'wt t=20', u'wt t=30', u'wt t=45', u'wt t=60',\n",
      "       u'wt t=90', u'wt t=120', u'tfA-del t=0', u'tfA-del t=10',\n",
      "       u'tfA-del t=20', u'tfA-del t=30', u'tfA-del t=45', u'tfA-del t=60',\n",
      "       u'tfA-del t=90', u'tfA-del t=120', u'tfB-del t=0', u'tfB-del t=10',\n",
      "       u'tfB-del t=20', u'tfB-del t=30', u'tfB-del t=45', u'tfB-del t=60',\n",
      "       u'tfB-del t=90', u'tfB-del t=120', u'tfC-del t=0', u'tfC-del t=10',\n",
      "       u'tfC-del t=20', u'tfC-del t=30', u'tfC-del t=45', u'tfC-del t=60',\n",
      "       u'tfC-del t=90', u'tfC-del t=120'],\n",
      "      dtype='object')\n"
     ]
    }
   ],
   "source": [
    "test[test.columns[10:18]]\n",
    "print test.columns\n",
    "print np.delete(test.columns, range(10,18))\n",
    "print test.columns"
   ]
  },
  {
   "cell_type": "code",
   "execution_count": null,
   "metadata": {
    "collapsed": true
   },
   "outputs": [],
   "source": []
  }
 ],
 "metadata": {
  "kernelspec": {
   "display_name": "Python [fullfeatured]",
   "language": "python",
   "name": "Python [fullfeatured]"
  },
  "language_info": {
   "codemirror_mode": {
    "name": "ipython",
    "version": 2
   },
   "file_extension": ".py",
   "mimetype": "text/x-python",
   "name": "python",
   "nbconvert_exporter": "python",
   "pygments_lexer": "ipython2",
   "version": "2.7.12"
  }
 },
 "nbformat": 4,
 "nbformat_minor": 0
}
